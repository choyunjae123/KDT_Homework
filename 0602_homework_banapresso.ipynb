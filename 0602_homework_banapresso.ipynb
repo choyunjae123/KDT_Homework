{
 "cells": [
  {
   "cell_type": "code",
   "execution_count": 9,
   "id": "31d9e6fa",
   "metadata": {},
   "outputs": [
    {
     "name": "stdout",
     "output_type": "stream",
     "text": [
      "Requirement already satisfied: pandas in c:\\users\\junes\\appdata\\local\\programs\\python\\python38\\lib\\site-packages (2.0.2)\n",
      "Requirement already satisfied: python-dateutil>=2.8.2 in c:\\users\\junes\\appdata\\local\\programs\\python\\python38\\lib\\site-packages (from pandas) (2.8.2)\n",
      "Requirement already satisfied: pytz>=2020.1 in c:\\users\\junes\\appdata\\local\\programs\\python\\python38\\lib\\site-packages (from pandas) (2023.3)\n",
      "Requirement already satisfied: tzdata>=2022.1 in c:\\users\\junes\\appdata\\local\\programs\\python\\python38\\lib\\site-packages (from pandas) (2023.3)\n",
      "Requirement already satisfied: numpy>=1.20.3 in c:\\users\\junes\\appdata\\local\\programs\\python\\python38\\lib\\site-packages (from pandas) (1.24.3)\n",
      "Requirement already satisfied: six>=1.5 in c:\\users\\junes\\appdata\\local\\programs\\python\\python38\\lib\\site-packages (from python-dateutil>=2.8.2->pandas) (1.16.0)\n",
      "Requirement already satisfied: openpyxl in c:\\users\\junes\\appdata\\local\\programs\\python\\python38\\lib\\site-packages (3.1.2)\n",
      "Requirement already satisfied: et-xmlfile in c:\\users\\junes\\appdata\\local\\programs\\python\\python38\\lib\\site-packages (from openpyxl) (1.1.0)\n",
      "Requirement already satisfied: selenium in c:\\users\\junes\\appdata\\local\\programs\\python\\python38\\lib\\site-packages (4.9.1)\n",
      "Requirement already satisfied: urllib3[socks]<3,>=1.26 in c:\\users\\junes\\appdata\\local\\programs\\python\\python38\\lib\\site-packages (from selenium) (2.0.2)\n",
      "Requirement already satisfied: trio~=0.17 in c:\\users\\junes\\appdata\\local\\programs\\python\\python38\\lib\\site-packages (from selenium) (0.22.0)\n",
      "Requirement already satisfied: trio-websocket~=0.9 in c:\\users\\junes\\appdata\\local\\programs\\python\\python38\\lib\\site-packages (from selenium) (0.10.2)\n",
      "Requirement already satisfied: certifi>=2021.10.8 in c:\\users\\junes\\appdata\\local\\programs\\python\\python38\\lib\\site-packages (from selenium) (2023.5.7)\n",
      "Requirement already satisfied: attrs>=19.2.0 in c:\\users\\junes\\appdata\\local\\programs\\python\\python38\\lib\\site-packages (from trio~=0.17->selenium) (22.2.0)\n",
      "Requirement already satisfied: sortedcontainers in c:\\users\\junes\\appdata\\local\\programs\\python\\python38\\lib\\site-packages (from trio~=0.17->selenium) (2.4.0)\n",
      "Requirement already satisfied: async-generator>=1.9 in c:\\users\\junes\\appdata\\local\\programs\\python\\python38\\lib\\site-packages (from trio~=0.17->selenium) (1.10)\n",
      "Requirement already satisfied: idna in c:\\users\\junes\\appdata\\local\\programs\\python\\python38\\lib\\site-packages (from trio~=0.17->selenium) (3.4)\n",
      "Requirement already satisfied: outcome in c:\\users\\junes\\appdata\\local\\programs\\python\\python38\\lib\\site-packages (from trio~=0.17->selenium) (1.2.0)\n",
      "Requirement already satisfied: sniffio in c:\\users\\junes\\appdata\\local\\programs\\python\\python38\\lib\\site-packages (from trio~=0.17->selenium) (1.3.0)\n",
      "Requirement already satisfied: cffi>=1.14 in c:\\users\\junes\\appdata\\local\\programs\\python\\python38\\lib\\site-packages (from trio~=0.17->selenium) (1.15.1)\n",
      "Requirement already satisfied: exceptiongroup>=1.0.0rc9 in c:\\users\\junes\\appdata\\local\\programs\\python\\python38\\lib\\site-packages (from trio~=0.17->selenium) (1.1.1)\n",
      "Requirement already satisfied: wsproto>=0.14 in c:\\users\\junes\\appdata\\local\\programs\\python\\python38\\lib\\site-packages (from trio-websocket~=0.9->selenium) (1.2.0)\n",
      "Requirement already satisfied: pysocks!=1.5.7,<2.0,>=1.5.6 in c:\\users\\junes\\appdata\\local\\programs\\python\\python38\\lib\\site-packages (from urllib3[socks]<3,>=1.26->selenium) (1.7.1)\n",
      "Requirement already satisfied: pycparser in c:\\users\\junes\\appdata\\local\\programs\\python\\python38\\lib\\site-packages (from cffi>=1.14->trio~=0.17->selenium) (2.21)\n",
      "Requirement already satisfied: h11<1,>=0.9.0 in c:\\users\\junes\\appdata\\local\\programs\\python\\python38\\lib\\site-packages (from wsproto>=0.14->trio-websocket~=0.9->selenium) (0.14.0)\n",
      "Requirement already satisfied: chromedriver_autoinstaller in c:\\users\\junes\\appdata\\local\\programs\\python\\python38\\lib\\site-packages (0.4.0)\n"
     ]
    }
   ],
   "source": [
    "!pip install pandas\n",
    "!pip install openpyxl\n",
    "!pip install selenium\n",
    "!pip install chromedriver_autoinstaller"
   ]
  },
  {
   "cell_type": "code",
   "execution_count": 10,
   "id": "b82567c5",
   "metadata": {},
   "outputs": [],
   "source": [
    "from selenium.webdriver.common.keys import Keys\n",
    "from selenium import webdriver\n",
    "import chromedriver_autoinstaller\n",
    "from selenium.webdriver.common.by import By\n",
    "import time\n",
    "import os\n",
    "from bs4 import BeautifulSoup\n",
    "import pandas as pd\n",
    "import openpyxl\n",
    "from urllib.request import Request, urlopen"
   ]
  },
  {
   "cell_type": "code",
   "execution_count": 11,
   "id": "cc425134",
   "metadata": {},
   "outputs": [],
   "source": [
    "driver = webdriver.Chrome()\n",
    "url = 'https://banapresso.com/store'\n",
    "driver.get(url)\n",
    "time.sleep(3)"
   ]
  },
  {
   "cell_type": "code",
   "execution_count": 12,
   "id": "bd117c06",
   "metadata": {},
   "outputs": [],
   "source": [
    "list_page = []\n",
    "while True:\n",
    "    list = driver.find_elements(By.CSS_SELECTOR, 'div.pagination > ul > li > a')\n",
    "    for i in list:\n",
    "        i.click()\n",
    "        time.sleep(2)\n",
    "        address = driver.find_elements(By.CSS_SELECTOR, '.store_name_map > span')\n",
    "        name = driver.find_elements(By.CSS_SELECTOR, '.store_name_map > i')\n",
    "        \n",
    "        for j in zip(address, name):\n",
    "            list_page.append({'매장명':j[1].text, '매장주소':j[0].text})\n",
    "    \n",
    "    if (len(list)==5):\n",
    "        next_xpath = '/html/body/div/div/div/div/article/div/section/div/div[1]/div[3]/span[2]/a'\n",
    "        driver.find_element(By.XPATH, next_xpath).click()\n",
    "        time.sleep(3)\n",
    "    else:\n",
    "        break"
   ]
  },
  {
   "cell_type": "code",
   "execution_count": 13,
   "id": "d7c665f6",
   "metadata": {},
   "outputs": [
    {
     "data": {
      "text/plain": [
       "[{'매장명': '가산디지털단지역점', '매장주소': '서울시 금천구 가산동 60-3'},\n",
       " {'매장명': '강남구청점', '매장주소': '서울 강남구 청담동 45-4'},\n",
       " {'매장명': '강남역사거리점', '매장주소': '서울특별시 강남구 역삼동 820-10'},\n",
       " {'매장명': '강남역점', '매장주소': '서울 강남구 역삼동822-7'},\n",
       " {'매장명': '강남점', '매장주소': '서울 강남구 테헤란로4길 46 (역삼동 826-37) 쌍용 플래티넘, 1층'},\n",
       " {'매장명': '강남효성점', '매장주소': '서울 강남구 역삼동 825-24'},\n",
       " {'매장명': '강동역점', '매장주소': '서울 강동구 천호동 447'},\n",
       " {'매장명': '거여역점', '매장주소': '서울특별시 송파구 거여동 37-6'},\n",
       " {'매장명': '건대역점', '매장주소': '서울 광진구 아차산로 221 (화양동 7-4)'},\n",
       " {'매장명': '경희대점', '매장주소': '서울 동대문구 경희대로4길 1'},\n",
       " {'매장명': '광명하안점', '매장주소': '광명시 하안동 36-2'},\n",
       " {'매장명': '교대사거리점', '매장주소': '서울 서초구 서초동 1598-1'},\n",
       " {'매장명': '교대역점', '매장주소': '서울 서초구 반포대로30길 82'},\n",
       " {'매장명': '교대점', '매장주소': '서울 서초구 서초대로54길 27, 1층'},\n",
       " {'매장명': '교육개발원사거리점', '매장주소': '서울 서초구 강남대로27길 7-21 1층'},\n",
       " {'매장명': '구로비즈메트로점', '매장주소': '서울시 구로구 구로동 851번지 한화비즈메트로1차 109호'},\n",
       " {'매장명': '구로지플러스점', '매장주소': '서울시 구로구 구로동 222-31'},\n",
       " {'매장명': '국기원사거리점', '매장주소': '서울 강남구 테헤란로8길 26 (역삼동827-48)'},\n",
       " {'매장명': '군포첨단산업단지점', '매장주소': '경기도 군포시 부곡동 1244-4 1층'},\n",
       " {'매장명': '길동역점', '매장주소': '서울 강동구 양재대로 1490 (길동 366-5)'},\n",
       " {'매장명': '김포구래점', '매장주소': '경기도 김포시 구래동 6883-10 103호'},\n",
       " {'매장명': '낙성대역점', '매장주소': '서울시 관악구 봉천동 1658-19'},\n",
       " {'매장명': '남대문점', '매장주소': '서울 중구 세종대로 15 남대문5가 6-7'},\n",
       " {'매장명': '남부터미널점', '매장주소': '서울 서초구 효령로57길 1'},\n",
       " {'매장명': '답십리역점', '매장주소': '서울특별시 동대문구 천호대로 289, 한일노벨리아 104호'},\n",
       " {'매장명': '대치선릉점', '매장주소': '서울특별시 강남구 대치동 890-45'},\n",
       " {'매장명': '대치역점', '매장주소': '서울 강남구 대치동 507'},\n",
       " {'매장명': '대치은마점', '매장주소': '서울 강남구 도곡로 451 (대치동 941-22) 한나빌딩, 1층'},\n",
       " {'매장명': '대치점', '매장주소': '서울 강남구 테헤란로 84길 14 (대치동 942-19), 1층'},\n",
       " {'매장명': '대치포스코점', '매장주소': '서울 강남구 테헤란로78길 16 (대치동 891-44) 노벨빌딩 증축동, 1층/2층'},\n",
       " {'매장명': '도곡역점', '매장주소': '서울특별시 강남구 남부순환로 2909 여천빌딩'},\n",
       " {'매장명': '독도점', '매장주소': '경상북도 울릉군 울릉읍 독도리 산 1-96'},\n",
       " {'매장명': '뚝섬역점', '매장주소': '서울시 성동구 성수동1가 13-164'},\n",
       " {'매장명': '무교점', '매장주소': '서울특별시 중구 다동 155'},\n",
       " {'매장명': '문정역점', '매장주소': '서울 송파구 법원로128 (문정동642-3, SKV1빌딩 1층)'},\n",
       " {'매장명': '미아사거리역점', '매장주소': '서울시 강북구 미아동 60-5'},\n",
       " {'매장명': '방배역점', '매장주소': '서울시 서초구 방배동 909-8'},\n",
       " {'매장명': '범계역점', '매장주소': '경기도 안양시 동안구 호계동 1045'},\n",
       " {'매장명': '보라매역점', '매장주소': '서울시 동작구 대방동 400-3'},\n",
       " {'매장명': '분당서현점', '매장주소': '경기도 성남시 분당구 서현동 268-6 101호'},\n",
       " {'매장명': '사당역점', '매장주소': '서울 서초구 방배동444-15'},\n",
       " {'매장명': '삼성점', '매장주소': '서울특별시 강남구 삼성동 157-4 1층'},\n",
       " {'매장명': '삼성중앙역점', '매장주소': '서울 강남구 삼성동 51-2 1층'},\n",
       " {'매장명': '삼성타운점', '매장주소': '서울 서초구 서초대로78길 26 (서초동1327-7)'},\n",
       " {'매장명': '삼성테헤란로점', '매장주소': '서울시 강남구 삼성동 144-23 1층'},\n",
       " {'매장명': '상암DMC점', '매장주소': '서울 마포구 상암동 1605'},\n",
       " {'매장명': '서소문로점', '매장주소': '서울 중구 서소문로 130 1층'},\n",
       " {'매장명': '서초법원점', '매장주소': '서울시 서초구 서초동 1554-5 아스트라 101호, 102호'},\n",
       " {'매장명': '서초위브점', '매장주소': '서울 서초구 서초동 1362'},\n",
       " {'매장명': '서초점', '매장주소': '서울 서초구 서초대로 254 B105호 (서초동, 오퓨런스)'},\n",
       " {'매장명': '서현CGV점', '매장주소': '경기도 분당구 서현동 256'},\n",
       " {'매장명': '선릉공원점', '매장주소': '서울 강남구 삼성동 142-46'},\n",
       " {'매장명': '선릉역사거리점', '매장주소': '서울 강남구 역삼동 705-19'},\n",
       " {'매장명': '선릉역점', '매장주소': '서울 강남구 테헤란로51길 7 (역삼동702-30)'},\n",
       " {'매장명': '선릉위워크점', '매장주소': '서울특별시 강남구 대치동 889-41'},\n",
       " {'매장명': '선릉점', '매장주소': '서울 강남구 언주로 98길 26 (역삼동 700-35), 1층'},\n",
       " {'매장명': '선정릉점', '매장주소': '서울 강남구 선릉로 577 (역삼동 682-20) POS TOWER, 1층'},\n",
       " {'매장명': '세관사거리점', '매장주소': '서울 강남구 언주로 702 (논현동115-13)'},\n",
       " {'매장명': '속초중앙로점', '매장주소': '강원도 속초시 중앙로 123-2'},\n",
       " {'매장명': '수내역점', '매장주소': '주소 경기 성남시 분당구 수내로46번길 26'},\n",
       " {'매장명': '수송미장점', '매장주소': '전라북도 군산시 수송동로 53, 1층'},\n",
       " {'매장명': '수원시청역점', '매장주소': '경기도 수원시 팔달구 인계동 1119'},\n",
       " {'매장명': '수지성복점', '매장주소': '경기도 용인시 수지구 성복2로 174, 상가동 104호'},\n",
       " {'매장명': '숙대입구역점', '매장주소': '서울특별시 용산구 갈월동 92 1층'},\n",
       " {'매장명': '신논현역점', '매장주소': '서울 서초구 서초동 1303-1'},\n",
       " {'매장명': '신촌로터리점', '매장주소': '서울특별시 마포구 노고산동 57-14'},\n",
       " {'매장명': '신촌역점', '매장주소': '서울 서대문구 신촌로 113 1층'},\n",
       " {'매장명': '신촌점', '매장주소': '서울시 서대문구 창천동 13-29'},\n",
       " {'매장명': '약수역점', '매장주소': '서울시 중구 신당동 369-9'},\n",
       " {'매장명': '양재역점', '매장주소': '서울 강남구 강남대로 240 (도곡동 953-1, 양재SK허브)'},\n",
       " {'매장명': '양재이안점', '매장주소': '서울특별시 서초구 강남대로34길 7, 1층'},\n",
       " {'매장명': '양재점', '매장주소': '서울 서초구 강남대로 221 (양재동 23)'},\n",
       " {'매장명': '언주역점', '매장주소': '서울시 강남구 역삼동 650'},\n",
       " {'매장명': '여의도역점', '매장주소': '서울특별시 영등포구 여의도동 26-1'},\n",
       " {'매장명': '여의도KBS점', '매장주소': '서울시 영등포구 여의도동 17번지 더샵아일랜드파크 102동 117호~118호'},\n",
       " {'매장명': '역삼대로점', '매장주소': '서울 강남구 논현로 427-1 (역삼동 738-27)'},\n",
       " {'매장명': '역삼삼보점', '매장주소': '서울특별시 강남구 역삼동 647-13'},\n",
       " {'매장명': '역삼시티점', '매장주소': '서울 강남구 논현로85길 52 B102호'},\n",
       " {'매장명': '역삼역점', '매장주소': '서울 강남구 강남대로 94길 95 (역삼동 644-19), 1층'},\n",
       " {'매장명': '역삼초교사거리점', '매장주소': '서울 강남구 역삼동829-17'},\n",
       " {'매장명': '역삼GFC점', '매장주소': '서울 강남구 테헤란로26길 10 (역삼동 736-55) 성보빌딩, 1층'},\n",
       " {'매장명': '역삼GS점', '매장주소': '서울 강남구 논현로 94길 13'},\n",
       " {'매장명': '용인수지구청점', '매장주소': '경기도 용인시 수지구 수지로296번길 51-7'},\n",
       " {'매장명': '위례중앙점', '매장주소': '서울특별시 송파구 위례광장로 120, 상가동 132호'},\n",
       " {'매장명': '유성구청점', '매장주소': '대전광역시 유성구 어은로 56, 지상1층'},\n",
       " {'매장명': '을지병원사거리점', '매장주소': '서울 강남구 논현동6-21'},\n",
       " {'매장명': '이대점', '매장주소': '서울 마포구 대현동 56-74'},\n",
       " {'매장명': '인천동춘점', '매장주소': '인천광역시 연수구 동춘동 936-1'},\n",
       " {'매장명': '잠실새내점', '매장주소': '서울 송파구 석촌호수로 64 (잠실동 208-16)'},\n",
       " {'매장명': '종로구청점', '매장주소': '서울특별시 종로구 종로3길 38'},\n",
       " {'매장명': '중계은행사거리점', '매장주소': '서울특별시 노원구 중계동 359-9'},\n",
       " {'매장명': '청진타워8점', '매장주소': '서울시 종로구 청진동 128'},\n",
       " {'매장명': '충무로점', '매장주소': '서울특별시 중구 필동2가 21-1'},\n",
       " {'매장명': '테헤란로점', '매장주소': '서울 강남구 역삼동 718-2'},\n",
       " {'매장명': '통일점', '매장주소': '평양시 천리마대로 1'},\n",
       " {'매장명': '파인에비뉴점', '매장주소': '서울시 중구 을지로2가 203'},\n",
       " {'매장명': '페럼타워점', '매장주소': '서울특별시 중구 수하동 66'},\n",
       " {'매장명': '포스코사거리점', '매장주소': '서울 강남구 테헤란로 447'},\n",
       " {'매장명': '포이사거리점', '매장주소': '서울시 서초구 양재동 276-6'},\n",
       " {'매장명': '학동역점', '매장주소': '서울 강남구 논현동 87-5'},\n",
       " {'매장명': '한티역점', '매장주소': '서울 강남구 선릉로311, 한티빌딩 1층'},\n",
       " {'매장명': '합정역점', '매장주소': '서울 마포구 양화로 72'},\n",
       " {'매장명': '홍대입구역사거리점', '매장주소': '서울 마포구 양화로 129'},\n",
       " {'매장명': '회기역사거리점', '매장주소': '서울 동대문구 회기로 176 (회기동81)'},\n",
       " {'매장명': 'AK금정점', '매장주소': '경기도 군포시 금정동 689번지 AK플라자 금정점 2층'},\n",
       " {'매장명': '가산파트너스타워점', '매장주소': ''},\n",
       " {'매장명': '구로우림1차점', '매장주소': ''},\n",
       " {'매장명': '문정테라타워점', '매장주소': '서울특별시 송파구 송파대로 167, 문정역테라타워 A동 G123호'},\n",
       " {'매장명': '시흥은계점', '매장주소': '경기도 시흥시 은계번영길 11,111호'},\n",
       " {'매장명': '원주무실점', '매장주소': ''}]"
      ]
     },
     "execution_count": 13,
     "metadata": {},
     "output_type": "execute_result"
    }
   ],
   "source": [
    "list_page"
   ]
  },
  {
   "cell_type": "code",
   "execution_count": 14,
   "id": "ce47a52b",
   "metadata": {},
   "outputs": [
    {
     "name": "stdout",
     "output_type": "stream",
     "text": [
      "                                                   0\n",
      "0  <selenium.webdriver.remote.webelement.WebEleme...\n"
     ]
    }
   ],
   "source": [
    "df = pd.DataFrame(list)\n",
    "print(df)"
   ]
  },
  {
   "cell_type": "code",
   "execution_count": 15,
   "id": "98a748a7",
   "metadata": {},
   "outputs": [],
   "source": [
    "df.to_excel('0602_homework_banapresso.xlsx')"
   ]
  }
 ],
 "metadata": {
  "kernelspec": {
   "display_name": "Python 3 (ipykernel)",
   "language": "python",
   "name": "python3"
  },
  "language_info": {
   "codemirror_mode": {
    "name": "ipython",
    "version": 3
   },
   "file_extension": ".py",
   "mimetype": "text/x-python",
   "name": "python",
   "nbconvert_exporter": "python",
   "pygments_lexer": "ipython3",
   "version": "3.8.6"
  }
 },
 "nbformat": 4,
 "nbformat_minor": 5
}
