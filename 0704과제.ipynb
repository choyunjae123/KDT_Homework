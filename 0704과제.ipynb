{
  "cells": [
    {
      "cell_type": "code",
      "execution_count": null,
      "metadata": {
        "id": "vO9Op6h9YsZd"
      },
      "outputs": [],
      "source": [
        "import pandas as pd\n",
        "import numpy as np"
      ]
    },
    {
      "cell_type": "code",
      "execution_count": null,
      "metadata": {
        "colab": {
          "base_uri": "https://localhost:8080/"
        },
        "id": "uFdg6uhQYzGU",
        "outputId": "782352d2-39d4-4d3e-f950-ef0a1d3cf1b7"
      },
      "outputs": [
        {
          "name": "stdout",
          "output_type": "stream",
          "text": [
            "                                                       0   \\\n",
            "0       자신의 생각을 불명확하게 표현하는 사람들은 생각도 불명확할 가능성이 높다. 따라서 ...   \n",
            "1       진로체험의 운영 역량을 강화하기 위하여 단위학교의 담당교사 외 에도 진로체험을 인솔...   \n",
            "2                                              매우 최근 의견에서   \n",
            "3       에너지원별 소비 비중의 변화에서 눈에 띄는 것은 전력비중이 1981년에 비해 2배 ...   \n",
            "4                        강원의 주류 기술지식 영역과 전략산업을 살펴보면 웰니스식품   \n",
            "...                                                   ...   \n",
            "159997  유기성 폐기물 에너지화 시설 확대의 속성별 MWTP를 추정한 결과는 <표 5>에 제...   \n",
            "159998  일반적으로 정비하천은 자연하천에 비해 댐이나 보 등의 영향으로 하천유량이 많고 유속...   \n",
            "159999    NCATS는 CTSA 사업 이외에도 임상으로의 중개를 위해 다양한 사업들을 진행하는데   \n",
            "160000     해외 TA 방식과 또 다른 차이점으로는 국내의 경우에는 평가기술에 대한 과학적 지식   \n",
            "160001  Cincera et al.(2013)의 연구도 동일하다. EU Industrial ...   \n",
            "\n",
            "                                                       1   \\\n",
            "0                                                    None   \n",
            "1        운영지원 등의 인력이 요구된 다. 하지만 이들을 채용하기에는 재정적인 부담이 심하...   \n",
            "2        Mary Footer는 이 논쟁을 한발 더 진전시켰다. 그녀는 비구속적 법률(so...   \n",
            "3        [그림 Ⅵ-11]에서 보이듯이 2008년 현재 발전에서 원자력이 담당하고 있는 비...   \n",
            "4                                                스포츠지식서비스   \n",
            "...                                                   ...   \n",
            "159997   한 개의 일자리가 창출되는 것에 대한 MWTP는 15원으로 나타났다. 개별 속성에...   \n",
            "159998   하천변 도로나 불투수성 표면으로부터의 지표유출수(runoff) 내 고형물이 퇴적된...   \n",
            "159999          이들 대다수는 연방 기관 간 혹은 민관 공동연구의 형태를 띄고 있다. 대학   \n",
            "160000                                             경제성 분석   \n",
            "160001   경제위기 발생 이후인 2009년에 3.7% 감소했다. 그러나 51개 대기업의 R&...   \n",
            "\n",
            "                                                       2   \\\n",
            "0                                                    None   \n",
            "1        전업주부 등 경력단절 여성인 학부모들의 참여를 독려하는 것도 필요하다.\\t진로체험...   \n",
            "2        그것은 도하라운드 협상의 결론에서도 마찬가지라는 것이다. 2005년에 개시된 무역...   \n",
            "3        일본의 26.9%를 앞서고 있다.\\t에너지원별 소비 비중 중 전력비중은 지속적으로...   \n",
            "4                                                    의료기기   \n",
            "...                                                   ...   \n",
            "159997                         장하나안과 유럽연합은 허가제·면허제를 도입하지만   \n",
            "159998   오염 퇴적오니의 준설은 지표수-지하수의 혼합을 재생시킴으로써 환경적 기능을 복원시...   \n",
            "159999                                              비영리기관   \n",
            "160000     사회적 효과가 하나의 보고서 안에 모두 포함되는 방식으로 TA가 수행되는 데 반하여   \n",
            "160001   2011년에는 5.7% 다시 증가했다. 즉 경제위기 하에 R&D 투자는 감소한 것...   \n",
            "\n",
            "                                                       3   \\\n",
            "0                                                    None   \n",
            "1        안전 등의 일용직 인력이 필요하다. 재정과 고용 형태를 고려했을 때 자원봉사 인력...   \n",
            "2        그녀는 WTO법의 다양한 모순이나 역설을 해결하기 위한 다섯가지 제안을 한다. ‘...   \n",
            "3        이것은 원자력 발전 설비 확충으로 충당되었다. 2008년 현재 원자력 비중은 36...   \n",
            "4        바이오활성소재 등은 밀접한 연관성을 갖고 있다. 연계 전환이 가지는 한계를 감안하더라도   \n",
            "...                                                   ...   \n",
            "159997                                     정부는 등록제를 채택한다.   \n",
            "159998   2011).\\t토지이용의 변화로 탄소가 풍부한 유출물 침전과 지표유출수 내 고형물...   \n",
            "159999   소기업이 FDA의 신약개발 지원에 필요한 약물 개발 관련 자원 접근을 위한 계약을...   \n",
            "160000   해외에서는 그렇지 않는 경우가 많다는 점이다. 평가대상에 따라서 과학기술에 대한 ...   \n",
            "160001   그 감소는 완만했고 기간도 매우 제한적이었다는 것을 의미한다. 한편 경제위기 중에...   \n",
            "\n",
            "                                                       4   \\\n",
            "0                                                    None   \n",
            "1                                                    None   \n",
            "2        즉 WTO법질서에서 모든 비구속적 법률 형태로 한정하는 한계는 물론 인정된다. 하...   \n",
            "3                                                    None   \n",
            "4                      강원의 오랜 산업기반인 식품과 천연자원에 기반을 둔 웰니스식품   \n",
            "...                                                   ...   \n",
            "159997                                               None   \n",
            "159998                    무차별한 준설은 생태계서비스를 파괴하므로 지양해야 한다.   \n",
            "159999   집단해결방식(crowd sourcing approach)을 통해 제약회사와 대학 ...   \n",
            "160000                               엄밀한 경제성 평가를 수행하기도 하고   \n",
            "160001   반면 R&D 집약적 기업 및 중간 규모 기업들의 연구개발 관련 투자는 대폭 줄어든...   \n",
            "\n",
            "                                                       5   \\\n",
            "0                                                    None   \n",
            "1                                                    None   \n",
            "2        규범해석에서 지침을 제공하는 ‘정교한 비구속적 법률(elaborative soft...   \n",
            "3                                                    None   \n",
            "4        바이오활성소재 등이 주류 기술지식 영역에 자리하고 있다는 사실은 당연한 결과로 이...   \n",
            "...                                                   ...   \n",
            "159997                                               None   \n",
            "159998                                               None   \n",
            "159999   국립인간게놈연구소(NHGRI)와의 협업으로 희귀성 및 유전질환에 대한 정보를 환자...   \n",
            "160000   혹은 다양한 측면의 사회적 효과를 창의적인 방법으로 수행하는 사례들을 쉽게 볼 수...   \n",
            "160001                                               None   \n",
            "\n",
            "                                                       6   \\\n",
            "0                                                    None   \n",
            "1                                                    None   \n",
            "2        특히 ‘정교한 비구속적 법률'에 대한 그녀의 첫 번째 제안은 WTO의 외생변수인 ...   \n",
            "3                                                    None   \n",
            "4        이는 지역산업정책 추진의 성과로 보는 것이 합당할 것이다. 특히 강원의 가상적 산...   \n",
            "...                                                   ...   \n",
            "159997                                               None   \n",
            "159998                                               None   \n",
            "159999   보건서비스 제공자와 대중에게 제공하는 사업인 GARD(Genetic and Rar...   \n",
            "160000             경제·사회적 효과가 종합적으로 정리되는 방식만을 고수하는 것이 아니라   \n",
            "160001                                               None   \n",
            "\n",
            "                                                       7   \\\n",
            "0                                                    None   \n",
            "1                                                    None   \n",
            "2                                                    None   \n",
            "3                                                    None   \n",
            "4        의료용 물질 및 의약품 제조업이 상당한 비중을 차지하고 있다는 점에서 산업기술지형...   \n",
            "...                                                   ...   \n",
            "159997                                               None   \n",
            "159998                                               None   \n",
            "159999   희귀해서 무시되고 있는 질환들에 대한 신약 발견을 증진하기 위해 NIH와 학술 연구자들   \n",
            "160000   평가대상에 대해 특정 영역만을 심층적으로 분석하는 방식도 택하고 있다는 것이다. ...   \n",
            "160001                                               None   \n",
            "\n",
            "                                                       8   \\\n",
            "0                                                    None   \n",
            "1                                                    None   \n",
            "2                                                    None   \n",
            "3                                                    None   \n",
            "4        통신업 등으로 구성되어 있어 스포츠 부문에 특정되지는 않지만 전략산업 지정을 통해...   \n",
            "...                                                   ...   \n",
            "159997                                               None   \n",
            "159998                                               None   \n",
            "159999   환자 조직과 제약회사 간의 연구협력을 지원하는 TRND(Therapeutics f...   \n",
            "160000   이들 연구들은 TA가 아닌 다른 이름으로 취급되는 경우가 대부분이다. 실제 많은 ...   \n",
            "160001                                               None   \n",
            "\n",
            "                                                       9   ...    61    62  \\\n",
            "0                                                    None  ...  None  None   \n",
            "1                                                    None  ...  None  None   \n",
            "2                                                    None  ...  None  None   \n",
            "3                                                    None  ...  None  None   \n",
            "4                                                스포츠지식서비스  ...  None  None   \n",
            "...                                                   ...  ...   ...   ...   \n",
            "159997                                               None  ...  None  None   \n",
            "159998                                               None  ...  None  None   \n",
            "159999   DARPA 및 FDA와 함께 인간 장기의 기능 및 구조에 대한 모델이 될 수 있는...  ...  None  None   \n",
            "160000                                 경제성)만을 집중적으로 분석하거나  ...  None  None   \n",
            "160001                                               None  ...  None  None   \n",
            "\n",
            "          63    64    65    66    67    68    69    70  \n",
            "0       None  None  None  None  None  None  None  None  \n",
            "1       None  None  None  None  None  None  None  None  \n",
            "2       None  None  None  None  None  None  None  None  \n",
            "3       None  None  None  None  None  None  None  None  \n",
            "4       None  None  None  None  None  None  None  None  \n",
            "...      ...   ...   ...   ...   ...   ...   ...   ...  \n",
            "159997  None  None  None  None  None  None  None  None  \n",
            "159998  None  None  None  None  None  None  None  None  \n",
            "159999  None  None  None  None  None  None  None  None  \n",
            "160000  None  None  None  None  None  None  None  None  \n",
            "160001  None  None  None  None  None  None  None  None  \n",
            "\n",
            "[160002 rows x 71 columns]\n"
          ]
        }
      ],
      "source": [
        "with open('/content/modi_output.txt', 'r') as file:\n",
        "    lines = file.readlines()\n",
        "\n",
        "data = [line.strip().split(',') for line in lines]\n",
        "\n",
        "df = pd.DataFrame(data)\n",
        "\n",
        "print(df)"
      ]
    },
    {
      "cell_type": "code",
      "execution_count": null,
      "metadata": {
        "colab": {
          "base_uri": "https://localhost:8080/",
          "height": 423
        },
        "id": "fDKJrTaGbRVj",
        "outputId": "513173d2-23f2-487e-9cd6-512cdde8be4d"
      },
      "outputs": [
        {
          "data": {
            "text/html": [
              "\n",
              "  <div id=\"df-bd6a163b-fc69-4616-9510-ddfdb6fda1b5\">\n",
              "    <div class=\"colab-df-container\">\n",
              "      <div>\n",
              "<style scoped>\n",
              "    .dataframe tbody tr th:only-of-type {\n",
              "        vertical-align: middle;\n",
              "    }\n",
              "\n",
              "    .dataframe tbody tr th {\n",
              "        vertical-align: top;\n",
              "    }\n",
              "\n",
              "    .dataframe thead th {\n",
              "        text-align: right;\n",
              "    }\n",
              "</style>\n",
              "<table border=\"1\" class=\"dataframe\">\n",
              "  <thead>\n",
              "    <tr style=\"text-align: right;\">\n",
              "      <th></th>\n",
              "      <th>document</th>\n",
              "    </tr>\n",
              "  </thead>\n",
              "  <tbody>\n",
              "    <tr>\n",
              "      <th>0</th>\n",
              "      <td>[자신의 생각을 불명확하게 표현하는 사람들은 생각도 불명확할 가능성이 높다. 따라서...</td>\n",
              "    </tr>\n",
              "    <tr>\n",
              "      <th>1</th>\n",
              "      <td>[진로체험의 운영 역량을 강화하기 위하여 단위학교의 담당교사 외 에도 진로체험을 인...</td>\n",
              "    </tr>\n",
              "    <tr>\n",
              "      <th>2</th>\n",
              "      <td>[매우 최근 의견에서,  Mary Footer는 이 논쟁을 한발 더 진전시켰다. 그...</td>\n",
              "    </tr>\n",
              "    <tr>\n",
              "      <th>3</th>\n",
              "      <td>[에너지원별 소비 비중의 변화에서 눈에 띄는 것은 전력비중이 1981년에 비해 2배...</td>\n",
              "    </tr>\n",
              "    <tr>\n",
              "      <th>4</th>\n",
              "      <td>[강원의 주류 기술지식 영역과 전략산업을 살펴보면 웰니스식품,  스포츠지식서비스, ...</td>\n",
              "    </tr>\n",
              "    <tr>\n",
              "      <th>...</th>\n",
              "      <td>...</td>\n",
              "    </tr>\n",
              "    <tr>\n",
              "      <th>159997</th>\n",
              "      <td>[유기성 폐기물 에너지화 시설 확대의 속성별 MWTP를 추정한 결과는 &lt;표 5&gt;에 ...</td>\n",
              "    </tr>\n",
              "    <tr>\n",
              "      <th>159998</th>\n",
              "      <td>[일반적으로 정비하천은 자연하천에 비해 댐이나 보 등의 영향으로 하천유량이 많고 유...</td>\n",
              "    </tr>\n",
              "    <tr>\n",
              "      <th>159999</th>\n",
              "      <td>[NCATS는 CTSA 사업 이외에도 임상으로의 중개를 위해 다양한 사업들을 진행하...</td>\n",
              "    </tr>\n",
              "    <tr>\n",
              "      <th>160000</th>\n",
              "      <td>[해외 TA 방식과 또 다른 차이점으로는 국내의 경우에는 평가기술에 대한 과학적 지...</td>\n",
              "    </tr>\n",
              "    <tr>\n",
              "      <th>160001</th>\n",
              "      <td>[Cincera et al.(2013)의 연구도 동일하다. EU Industrial...</td>\n",
              "    </tr>\n",
              "  </tbody>\n",
              "</table>\n",
              "<p>160002 rows × 1 columns</p>\n",
              "</div>\n",
              "      <button class=\"colab-df-convert\" onclick=\"convertToInteractive('df-bd6a163b-fc69-4616-9510-ddfdb6fda1b5')\"\n",
              "              title=\"Convert this dataframe to an interactive table.\"\n",
              "              style=\"display:none;\">\n",
              "        \n",
              "  <svg xmlns=\"http://www.w3.org/2000/svg\" height=\"24px\"viewBox=\"0 0 24 24\"\n",
              "       width=\"24px\">\n",
              "    <path d=\"M0 0h24v24H0V0z\" fill=\"none\"/>\n",
              "    <path d=\"M18.56 5.44l.94 2.06.94-2.06 2.06-.94-2.06-.94-.94-2.06-.94 2.06-2.06.94zm-11 1L8.5 8.5l.94-2.06 2.06-.94-2.06-.94L8.5 2.5l-.94 2.06-2.06.94zm10 10l.94 2.06.94-2.06 2.06-.94-2.06-.94-.94-2.06-.94 2.06-2.06.94z\"/><path d=\"M17.41 7.96l-1.37-1.37c-.4-.4-.92-.59-1.43-.59-.52 0-1.04.2-1.43.59L10.3 9.45l-7.72 7.72c-.78.78-.78 2.05 0 2.83L4 21.41c.39.39.9.59 1.41.59.51 0 1.02-.2 1.41-.59l7.78-7.78 2.81-2.81c.8-.78.8-2.07 0-2.86zM5.41 20L4 18.59l7.72-7.72 1.47 1.35L5.41 20z\"/>\n",
              "  </svg>\n",
              "      </button>\n",
              "      \n",
              "  <style>\n",
              "    .colab-df-container {\n",
              "      display:flex;\n",
              "      flex-wrap:wrap;\n",
              "      gap: 12px;\n",
              "    }\n",
              "\n",
              "    .colab-df-convert {\n",
              "      background-color: #E8F0FE;\n",
              "      border: none;\n",
              "      border-radius: 50%;\n",
              "      cursor: pointer;\n",
              "      display: none;\n",
              "      fill: #1967D2;\n",
              "      height: 32px;\n",
              "      padding: 0 0 0 0;\n",
              "      width: 32px;\n",
              "    }\n",
              "\n",
              "    .colab-df-convert:hover {\n",
              "      background-color: #E2EBFA;\n",
              "      box-shadow: 0px 1px 2px rgba(60, 64, 67, 0.3), 0px 1px 3px 1px rgba(60, 64, 67, 0.15);\n",
              "      fill: #174EA6;\n",
              "    }\n",
              "\n",
              "    [theme=dark] .colab-df-convert {\n",
              "      background-color: #3B4455;\n",
              "      fill: #D2E3FC;\n",
              "    }\n",
              "\n",
              "    [theme=dark] .colab-df-convert:hover {\n",
              "      background-color: #434B5C;\n",
              "      box-shadow: 0px 1px 3px 1px rgba(0, 0, 0, 0.15);\n",
              "      filter: drop-shadow(0px 1px 2px rgba(0, 0, 0, 0.3));\n",
              "      fill: #FFFFFF;\n",
              "    }\n",
              "  </style>\n",
              "\n",
              "      <script>\n",
              "        const buttonEl =\n",
              "          document.querySelector('#df-bd6a163b-fc69-4616-9510-ddfdb6fda1b5 button.colab-df-convert');\n",
              "        buttonEl.style.display =\n",
              "          google.colab.kernel.accessAllowed ? 'block' : 'none';\n",
              "\n",
              "        async function convertToInteractive(key) {\n",
              "          const element = document.querySelector('#df-bd6a163b-fc69-4616-9510-ddfdb6fda1b5');\n",
              "          const dataTable =\n",
              "            await google.colab.kernel.invokeFunction('convertToInteractive',\n",
              "                                                     [key], {});\n",
              "          if (!dataTable) return;\n",
              "\n",
              "          const docLinkHtml = 'Like what you see? Visit the ' +\n",
              "            '<a target=\"_blank\" href=https://colab.research.google.com/notebooks/data_table.ipynb>data table notebook</a>'\n",
              "            + ' to learn more about interactive tables.';\n",
              "          element.innerHTML = '';\n",
              "          dataTable['output_type'] = 'display_data';\n",
              "          await google.colab.output.renderOutput(dataTable, element);\n",
              "          const docLink = document.createElement('div');\n",
              "          docLink.innerHTML = docLinkHtml;\n",
              "          element.appendChild(docLink);\n",
              "        }\n",
              "      </script>\n",
              "    </div>\n",
              "  </div>\n",
              "  "
            ],
            "text/plain": [
              "                                                 document\n",
              "0       [자신의 생각을 불명확하게 표현하는 사람들은 생각도 불명확할 가능성이 높다. 따라서...\n",
              "1       [진로체험의 운영 역량을 강화하기 위하여 단위학교의 담당교사 외 에도 진로체험을 인...\n",
              "2       [매우 최근 의견에서,  Mary Footer는 이 논쟁을 한발 더 진전시켰다. 그...\n",
              "3       [에너지원별 소비 비중의 변화에서 눈에 띄는 것은 전력비중이 1981년에 비해 2배...\n",
              "4       [강원의 주류 기술지식 영역과 전략산업을 살펴보면 웰니스식품,  스포츠지식서비스, ...\n",
              "...                                                   ...\n",
              "159997  [유기성 폐기물 에너지화 시설 확대의 속성별 MWTP를 추정한 결과는 <표 5>에 ...\n",
              "159998  [일반적으로 정비하천은 자연하천에 비해 댐이나 보 등의 영향으로 하천유량이 많고 유...\n",
              "159999  [NCATS는 CTSA 사업 이외에도 임상으로의 중개를 위해 다양한 사업들을 진행하...\n",
              "160000  [해외 TA 방식과 또 다른 차이점으로는 국내의 경우에는 평가기술에 대한 과학적 지...\n",
              "160001  [Cincera et al.(2013)의 연구도 동일하다. EU Industrial...\n",
              "\n",
              "[160002 rows x 1 columns]"
            ]
          },
          "execution_count": 93,
          "metadata": {},
          "output_type": "execute_result"
        }
      ],
      "source": [
        "df = pd.DataFrame(pd.Series(data, name='document'))\n",
        "df"
      ]
    },
    {
      "cell_type": "code",
      "execution_count": null,
      "metadata": {
        "colab": {
          "base_uri": "https://localhost:8080/"
        },
        "id": "m4UOrNn3b-Zq",
        "outputId": "d5d4048e-db8e-4d91-fd00-a1b63c8f1875"
      },
      "outputs": [
        {
          "name": "stdout",
          "output_type": "stream",
          "text": [
            "<class 'pandas.core.frame.DataFrame'>\n",
            "RangeIndex: 160002 entries, 0 to 160001\n",
            "Data columns (total 1 columns):\n",
            " #   Column    Non-Null Count   Dtype \n",
            "---  ------    --------------   ----- \n",
            " 0   document  160002 non-null  object\n",
            "dtypes: object(1)\n",
            "memory usage: 1.2+ MB\n"
          ]
        }
      ],
      "source": [
        "df.info()"
      ]
    },
    {
      "cell_type": "code",
      "execution_count": null,
      "metadata": {
        "colab": {
          "base_uri": "https://localhost:8080/"
        },
        "id": "FyjMsqKvcCPJ",
        "outputId": "6af91a23-a11b-4414-cc8e-cd70a91d9516"
      },
      "outputs": [
        {
          "name": "stdout",
          "output_type": "stream",
          "text": [
            "False\n"
          ]
        }
      ],
      "source": [
        "df.replace('', float('NaN'), inplace=True)\n",
        "print(df.isnull().values.any())\n",
        "# 결측치 X"
      ]
    },
    {
      "cell_type": "code",
      "execution_count": null,
      "metadata": {
        "colab": {
          "base_uri": "https://localhost:8080/",
          "height": 460
        },
        "id": "NMpi4IDcfCTw",
        "outputId": "85f06a76-1cd8-436d-b5bb-23e6dc51d78b"
      },
      "outputs": [
        {
          "name": "stderr",
          "output_type": "stream",
          "text": [
            "<ipython-input-96-bf1c6ba8391b>:2: FutureWarning: The default value of regex will change from True to False in a future version.\n",
            "  df['document'] = df['document'].astype(str).str.replace('[^a-zA-Z가-힣]',' ')\n"
          ]
        },
        {
          "data": {
            "text/html": [
              "\n",
              "  <div id=\"df-7e39036b-e9f0-42e9-a2c2-23a2b5e8e221\">\n",
              "    <div class=\"colab-df-container\">\n",
              "      <div>\n",
              "<style scoped>\n",
              "    .dataframe tbody tr th:only-of-type {\n",
              "        vertical-align: middle;\n",
              "    }\n",
              "\n",
              "    .dataframe tbody tr th {\n",
              "        vertical-align: top;\n",
              "    }\n",
              "\n",
              "    .dataframe thead th {\n",
              "        text-align: right;\n",
              "    }\n",
              "</style>\n",
              "<table border=\"1\" class=\"dataframe\">\n",
              "  <thead>\n",
              "    <tr style=\"text-align: right;\">\n",
              "      <th></th>\n",
              "      <th>document</th>\n",
              "    </tr>\n",
              "  </thead>\n",
              "  <tbody>\n",
              "    <tr>\n",
              "      <th>0</th>\n",
              "      <td>자신의 생각을 불명확하게 표현하는 사람들은 생각도 불명확할 가능성이 높다  따라...</td>\n",
              "    </tr>\n",
              "    <tr>\n",
              "      <th>1</th>\n",
              "      <td>진로체험의 운영 역량을 강화하기 위하여 단위학교의 담당교사 외 에도 진로체험을 ...</td>\n",
              "    </tr>\n",
              "    <tr>\n",
              "      <th>2</th>\n",
              "      <td>매우 최근 의견에서     Mary Footer는 이 논쟁을 한발 더 진전시켰다...</td>\n",
              "    </tr>\n",
              "    <tr>\n",
              "      <th>3</th>\n",
              "      <td>에너지원별 소비 비중의 변화에서 눈에 띄는 것은 전력비중이     년에 비해  ...</td>\n",
              "    </tr>\n",
              "    <tr>\n",
              "      <th>4</th>\n",
              "      <td>강원의 주류 기술지식 영역과 전략산업을 살펴보면 웰니스식품     스포츠지식서비...</td>\n",
              "    </tr>\n",
              "    <tr>\n",
              "      <th>...</th>\n",
              "      <td>...</td>\n",
              "    </tr>\n",
              "    <tr>\n",
              "      <th>159997</th>\n",
              "      <td>유기성 폐기물 에너지화 시설 확대의 속성별 MWTP를 추정한 결과는  표   에...</td>\n",
              "    </tr>\n",
              "    <tr>\n",
              "      <th>159998</th>\n",
              "      <td>일반적으로 정비하천은 자연하천에 비해 댐이나 보 등의 영향으로 하천유량이 많고 ...</td>\n",
              "    </tr>\n",
              "    <tr>\n",
              "      <th>159999</th>\n",
              "      <td>NCATS는 CTSA 사업 이외에도 임상으로의 중개를 위해 다양한 사업들을 진행...</td>\n",
              "    </tr>\n",
              "    <tr>\n",
              "      <th>160000</th>\n",
              "      <td>해외 TA 방식과 또 다른 차이점으로는 국내의 경우에는 평가기술에 대한 과학적 ...</td>\n",
              "    </tr>\n",
              "    <tr>\n",
              "      <th>160001</th>\n",
              "      <td>Cincera et al       의 연구도 동일하다  EU Industria...</td>\n",
              "    </tr>\n",
              "  </tbody>\n",
              "</table>\n",
              "<p>160002 rows × 1 columns</p>\n",
              "</div>\n",
              "      <button class=\"colab-df-convert\" onclick=\"convertToInteractive('df-7e39036b-e9f0-42e9-a2c2-23a2b5e8e221')\"\n",
              "              title=\"Convert this dataframe to an interactive table.\"\n",
              "              style=\"display:none;\">\n",
              "        \n",
              "  <svg xmlns=\"http://www.w3.org/2000/svg\" height=\"24px\"viewBox=\"0 0 24 24\"\n",
              "       width=\"24px\">\n",
              "    <path d=\"M0 0h24v24H0V0z\" fill=\"none\"/>\n",
              "    <path d=\"M18.56 5.44l.94 2.06.94-2.06 2.06-.94-2.06-.94-.94-2.06-.94 2.06-2.06.94zm-11 1L8.5 8.5l.94-2.06 2.06-.94-2.06-.94L8.5 2.5l-.94 2.06-2.06.94zm10 10l.94 2.06.94-2.06 2.06-.94-2.06-.94-.94-2.06-.94 2.06-2.06.94z\"/><path d=\"M17.41 7.96l-1.37-1.37c-.4-.4-.92-.59-1.43-.59-.52 0-1.04.2-1.43.59L10.3 9.45l-7.72 7.72c-.78.78-.78 2.05 0 2.83L4 21.41c.39.39.9.59 1.41.59.51 0 1.02-.2 1.41-.59l7.78-7.78 2.81-2.81c.8-.78.8-2.07 0-2.86zM5.41 20L4 18.59l7.72-7.72 1.47 1.35L5.41 20z\"/>\n",
              "  </svg>\n",
              "      </button>\n",
              "      \n",
              "  <style>\n",
              "    .colab-df-container {\n",
              "      display:flex;\n",
              "      flex-wrap:wrap;\n",
              "      gap: 12px;\n",
              "    }\n",
              "\n",
              "    .colab-df-convert {\n",
              "      background-color: #E8F0FE;\n",
              "      border: none;\n",
              "      border-radius: 50%;\n",
              "      cursor: pointer;\n",
              "      display: none;\n",
              "      fill: #1967D2;\n",
              "      height: 32px;\n",
              "      padding: 0 0 0 0;\n",
              "      width: 32px;\n",
              "    }\n",
              "\n",
              "    .colab-df-convert:hover {\n",
              "      background-color: #E2EBFA;\n",
              "      box-shadow: 0px 1px 2px rgba(60, 64, 67, 0.3), 0px 1px 3px 1px rgba(60, 64, 67, 0.15);\n",
              "      fill: #174EA6;\n",
              "    }\n",
              "\n",
              "    [theme=dark] .colab-df-convert {\n",
              "      background-color: #3B4455;\n",
              "      fill: #D2E3FC;\n",
              "    }\n",
              "\n",
              "    [theme=dark] .colab-df-convert:hover {\n",
              "      background-color: #434B5C;\n",
              "      box-shadow: 0px 1px 3px 1px rgba(0, 0, 0, 0.15);\n",
              "      filter: drop-shadow(0px 1px 2px rgba(0, 0, 0, 0.3));\n",
              "      fill: #FFFFFF;\n",
              "    }\n",
              "  </style>\n",
              "\n",
              "      <script>\n",
              "        const buttonEl =\n",
              "          document.querySelector('#df-7e39036b-e9f0-42e9-a2c2-23a2b5e8e221 button.colab-df-convert');\n",
              "        buttonEl.style.display =\n",
              "          google.colab.kernel.accessAllowed ? 'block' : 'none';\n",
              "\n",
              "        async function convertToInteractive(key) {\n",
              "          const element = document.querySelector('#df-7e39036b-e9f0-42e9-a2c2-23a2b5e8e221');\n",
              "          const dataTable =\n",
              "            await google.colab.kernel.invokeFunction('convertToInteractive',\n",
              "                                                     [key], {});\n",
              "          if (!dataTable) return;\n",
              "\n",
              "          const docLinkHtml = 'Like what you see? Visit the ' +\n",
              "            '<a target=\"_blank\" href=https://colab.research.google.com/notebooks/data_table.ipynb>data table notebook</a>'\n",
              "            + ' to learn more about interactive tables.';\n",
              "          element.innerHTML = '';\n",
              "          dataTable['output_type'] = 'display_data';\n",
              "          await google.colab.output.renderOutput(dataTable, element);\n",
              "          const docLink = document.createElement('div');\n",
              "          docLink.innerHTML = docLinkHtml;\n",
              "          element.appendChild(docLink);\n",
              "        }\n",
              "      </script>\n",
              "    </div>\n",
              "  </div>\n",
              "  "
            ],
            "text/plain": [
              "                                                 document\n",
              "0         자신의 생각을 불명확하게 표현하는 사람들은 생각도 불명확할 가능성이 높다  따라...\n",
              "1         진로체험의 운영 역량을 강화하기 위하여 단위학교의 담당교사 외 에도 진로체험을 ...\n",
              "2         매우 최근 의견에서     Mary Footer는 이 논쟁을 한발 더 진전시켰다...\n",
              "3         에너지원별 소비 비중의 변화에서 눈에 띄는 것은 전력비중이     년에 비해  ...\n",
              "4         강원의 주류 기술지식 영역과 전략산업을 살펴보면 웰니스식품     스포츠지식서비...\n",
              "...                                                   ...\n",
              "159997    유기성 폐기물 에너지화 시설 확대의 속성별 MWTP를 추정한 결과는  표   에...\n",
              "159998    일반적으로 정비하천은 자연하천에 비해 댐이나 보 등의 영향으로 하천유량이 많고 ...\n",
              "159999    NCATS는 CTSA 사업 이외에도 임상으로의 중개를 위해 다양한 사업들을 진행...\n",
              "160000    해외 TA 방식과 또 다른 차이점으로는 국내의 경우에는 평가기술에 대한 과학적 ...\n",
              "160001    Cincera et al       의 연구도 동일하다  EU Industria...\n",
              "\n",
              "[160002 rows x 1 columns]"
            ]
          },
          "execution_count": 96,
          "metadata": {},
          "output_type": "execute_result"
        }
      ],
      "source": [
        "# 특수문자 제거\n",
        "df['document'] = df['document'].astype(str).str.replace('[^a-zA-Z가-힣]',' ')\n",
        "df"
      ]
    },
    {
      "cell_type": "code",
      "execution_count": null,
      "metadata": {
        "colab": {
          "base_uri": "https://localhost:8080/",
          "height": 423
        },
        "id": "syKypNOMgPv5",
        "outputId": "f4ad54a8-9022-4d9e-9372-c3c0ade10b6c"
      },
      "outputs": [
        {
          "data": {
            "text/html": [
              "\n",
              "  <div id=\"df-3bd7b159-91c6-4317-b671-24797f95ebd4\">\n",
              "    <div class=\"colab-df-container\">\n",
              "      <div>\n",
              "<style scoped>\n",
              "    .dataframe tbody tr th:only-of-type {\n",
              "        vertical-align: middle;\n",
              "    }\n",
              "\n",
              "    .dataframe tbody tr th {\n",
              "        vertical-align: top;\n",
              "    }\n",
              "\n",
              "    .dataframe thead th {\n",
              "        text-align: right;\n",
              "    }\n",
              "</style>\n",
              "<table border=\"1\" class=\"dataframe\">\n",
              "  <thead>\n",
              "    <tr style=\"text-align: right;\">\n",
              "      <th></th>\n",
              "      <th>document</th>\n",
              "    </tr>\n",
              "  </thead>\n",
              "  <tbody>\n",
              "    <tr>\n",
              "      <th>0</th>\n",
              "      <td>자신의 생각을 불명확하게 표현하는 사람들은 생각도 불명확할 가능성이 따라서 생각을 ...</td>\n",
              "    </tr>\n",
              "    <tr>\n",
              "      <th>1</th>\n",
              "      <td>진로체험의 역량을 강화하기 위하여 단위학교의 담당교사 진로체험을 인솔하거나 안전요원...</td>\n",
              "    </tr>\n",
              "    <tr>\n",
              "      <th>2</th>\n",
              "      <td>의견에서 Mary Footer는 논쟁을 진전시켰다 그녀는 비구속적 soft law ...</td>\n",
              "    </tr>\n",
              "    <tr>\n",
              "      <th>3</th>\n",
              "      <td>에너지원별 비중의 변화에서 전력비중이 증가하였다는 것이다 연평균 지속적 증가를 소비...</td>\n",
              "    </tr>\n",
              "    <tr>\n",
              "      <th>4</th>\n",
              "      <td>강원의 기술지식 영역과 전략산업을 살펴보면 웰니스식품 스포츠지식서비스 의료기기 바이...</td>\n",
              "    </tr>\n",
              "    <tr>\n",
              "      <th>...</th>\n",
              "      <td>...</td>\n",
              "    </tr>\n",
              "    <tr>\n",
              "      <th>159997</th>\n",
              "      <td>유기성 폐기물 에너지화 확대의 속성별 MWTP를 추정한 결과는 제시되어 MWTP는 ...</td>\n",
              "    </tr>\n",
              "    <tr>\n",
              "      <th>159998</th>\n",
              "      <td>일반적으로 정비하천은 자연하천에 댐이나 영향으로 하천유량이 유속이 느려서 지표수 지...</td>\n",
              "    </tr>\n",
              "    <tr>\n",
              "      <th>159999</th>\n",
              "      <td>NCATS는 CTSA 이외에도 임상으로의 중개를 다양한 사업들을 진행하는데 대다수는...</td>\n",
              "    </tr>\n",
              "    <tr>\n",
              "      <th>160000</th>\n",
              "      <td>방식과 차이점으로는 국내의 경우에는 평가기술에 과학적 경제성 사회적 효과가 하나의 ...</td>\n",
              "    </tr>\n",
              "    <tr>\n",
              "      <th>160001</th>\n",
              "      <td>Cincera 연구도 동일하다 Industrial Investment Scorebo...</td>\n",
              "    </tr>\n",
              "  </tbody>\n",
              "</table>\n",
              "<p>160002 rows × 1 columns</p>\n",
              "</div>\n",
              "      <button class=\"colab-df-convert\" onclick=\"convertToInteractive('df-3bd7b159-91c6-4317-b671-24797f95ebd4')\"\n",
              "              title=\"Convert this dataframe to an interactive table.\"\n",
              "              style=\"display:none;\">\n",
              "        \n",
              "  <svg xmlns=\"http://www.w3.org/2000/svg\" height=\"24px\"viewBox=\"0 0 24 24\"\n",
              "       width=\"24px\">\n",
              "    <path d=\"M0 0h24v24H0V0z\" fill=\"none\"/>\n",
              "    <path d=\"M18.56 5.44l.94 2.06.94-2.06 2.06-.94-2.06-.94-.94-2.06-.94 2.06-2.06.94zm-11 1L8.5 8.5l.94-2.06 2.06-.94-2.06-.94L8.5 2.5l-.94 2.06-2.06.94zm10 10l.94 2.06.94-2.06 2.06-.94-2.06-.94-.94-2.06-.94 2.06-2.06.94z\"/><path d=\"M17.41 7.96l-1.37-1.37c-.4-.4-.92-.59-1.43-.59-.52 0-1.04.2-1.43.59L10.3 9.45l-7.72 7.72c-.78.78-.78 2.05 0 2.83L4 21.41c.39.39.9.59 1.41.59.51 0 1.02-.2 1.41-.59l7.78-7.78 2.81-2.81c.8-.78.8-2.07 0-2.86zM5.41 20L4 18.59l7.72-7.72 1.47 1.35L5.41 20z\"/>\n",
              "  </svg>\n",
              "      </button>\n",
              "      \n",
              "  <style>\n",
              "    .colab-df-container {\n",
              "      display:flex;\n",
              "      flex-wrap:wrap;\n",
              "      gap: 12px;\n",
              "    }\n",
              "\n",
              "    .colab-df-convert {\n",
              "      background-color: #E8F0FE;\n",
              "      border: none;\n",
              "      border-radius: 50%;\n",
              "      cursor: pointer;\n",
              "      display: none;\n",
              "      fill: #1967D2;\n",
              "      height: 32px;\n",
              "      padding: 0 0 0 0;\n",
              "      width: 32px;\n",
              "    }\n",
              "\n",
              "    .colab-df-convert:hover {\n",
              "      background-color: #E2EBFA;\n",
              "      box-shadow: 0px 1px 2px rgba(60, 64, 67, 0.3), 0px 1px 3px 1px rgba(60, 64, 67, 0.15);\n",
              "      fill: #174EA6;\n",
              "    }\n",
              "\n",
              "    [theme=dark] .colab-df-convert {\n",
              "      background-color: #3B4455;\n",
              "      fill: #D2E3FC;\n",
              "    }\n",
              "\n",
              "    [theme=dark] .colab-df-convert:hover {\n",
              "      background-color: #434B5C;\n",
              "      box-shadow: 0px 1px 3px 1px rgba(0, 0, 0, 0.15);\n",
              "      filter: drop-shadow(0px 1px 2px rgba(0, 0, 0, 0.3));\n",
              "      fill: #FFFFFF;\n",
              "    }\n",
              "  </style>\n",
              "\n",
              "      <script>\n",
              "        const buttonEl =\n",
              "          document.querySelector('#df-3bd7b159-91c6-4317-b671-24797f95ebd4 button.colab-df-convert');\n",
              "        buttonEl.style.display =\n",
              "          google.colab.kernel.accessAllowed ? 'block' : 'none';\n",
              "\n",
              "        async function convertToInteractive(key) {\n",
              "          const element = document.querySelector('#df-3bd7b159-91c6-4317-b671-24797f95ebd4');\n",
              "          const dataTable =\n",
              "            await google.colab.kernel.invokeFunction('convertToInteractive',\n",
              "                                                     [key], {});\n",
              "          if (!dataTable) return;\n",
              "\n",
              "          const docLinkHtml = 'Like what you see? Visit the ' +\n",
              "            '<a target=\"_blank\" href=https://colab.research.google.com/notebooks/data_table.ipynb>data table notebook</a>'\n",
              "            + ' to learn more about interactive tables.';\n",
              "          element.innerHTML = '';\n",
              "          dataTable['output_type'] = 'display_data';\n",
              "          await google.colab.output.renderOutput(dataTable, element);\n",
              "          const docLink = document.createElement('div');\n",
              "          docLink.innerHTML = docLinkHtml;\n",
              "          element.appendChild(docLink);\n",
              "        }\n",
              "      </script>\n",
              "    </div>\n",
              "  </div>\n",
              "  "
            ],
            "text/plain": [
              "                                                 document\n",
              "0       자신의 생각을 불명확하게 표현하는 사람들은 생각도 불명확할 가능성이 따라서 생각을 ...\n",
              "1       진로체험의 역량을 강화하기 위하여 단위학교의 담당교사 진로체험을 인솔하거나 안전요원...\n",
              "2       의견에서 Mary Footer는 논쟁을 진전시켰다 그녀는 비구속적 soft law ...\n",
              "3       에너지원별 비중의 변화에서 전력비중이 증가하였다는 것이다 연평균 지속적 증가를 소비...\n",
              "4       강원의 기술지식 영역과 전략산업을 살펴보면 웰니스식품 스포츠지식서비스 의료기기 바이...\n",
              "...                                                   ...\n",
              "159997  유기성 폐기물 에너지화 확대의 속성별 MWTP를 추정한 결과는 제시되어 MWTP는 ...\n",
              "159998  일반적으로 정비하천은 자연하천에 댐이나 영향으로 하천유량이 유속이 느려서 지표수 지...\n",
              "159999  NCATS는 CTSA 이외에도 임상으로의 중개를 다양한 사업들을 진행하는데 대다수는...\n",
              "160000  방식과 차이점으로는 국내의 경우에는 평가기술에 과학적 경제성 사회적 효과가 하나의 ...\n",
              "160001  Cincera 연구도 동일하다 Industrial Investment Scorebo...\n",
              "\n",
              "[160002 rows x 1 columns]"
            ]
          },
          "execution_count": 97,
          "metadata": {},
          "output_type": "execute_result"
        }
      ],
      "source": [
        "# 길이가 너무 짧은 단어 제거 + 띄어쓰기 기준 모두 split\n",
        "df['document'] = df['document'].apply(lambda x: ' '.join([token for token in x.split() if len(token) > 2]))\n",
        "df"
      ]
    },
    {
      "cell_type": "code",
      "execution_count": null,
      "metadata": {
        "colab": {
          "base_uri": "https://localhost:8080/",
          "height": 423
        },
        "id": "zEjIUjMngijc",
        "outputId": "102f06cc-c5dd-4633-c84e-e045e1aa03e7"
      },
      "outputs": [
        {
          "data": {
            "text/html": [
              "\n",
              "  <div id=\"df-5f120c13-5ce2-4f26-9f7f-5c4c5c260cf1\">\n",
              "    <div class=\"colab-df-container\">\n",
              "      <div>\n",
              "<style scoped>\n",
              "    .dataframe tbody tr th:only-of-type {\n",
              "        vertical-align: middle;\n",
              "    }\n",
              "\n",
              "    .dataframe tbody tr th {\n",
              "        vertical-align: top;\n",
              "    }\n",
              "\n",
              "    .dataframe thead th {\n",
              "        text-align: right;\n",
              "    }\n",
              "</style>\n",
              "<table border=\"1\" class=\"dataframe\">\n",
              "  <thead>\n",
              "    <tr style=\"text-align: right;\">\n",
              "      <th></th>\n",
              "      <th>document</th>\n",
              "    </tr>\n",
              "  </thead>\n",
              "  <tbody>\n",
              "    <tr>\n",
              "      <th>0</th>\n",
              "      <td>자신의 생각을 불명확하게 표현하는 사람들은 생각도 불명확할 가능성이 따라서 생각을 ...</td>\n",
              "    </tr>\n",
              "    <tr>\n",
              "      <th>1</th>\n",
              "      <td>진로체험의 역량을 강화하기 위하여 단위학교의 담당교사 진로체험을 인솔하거나 안전요원...</td>\n",
              "    </tr>\n",
              "    <tr>\n",
              "      <th>2</th>\n",
              "      <td>의견에서 mary footer는 논쟁을 진전시켰다 그녀는 비구속적 soft law ...</td>\n",
              "    </tr>\n",
              "    <tr>\n",
              "      <th>3</th>\n",
              "      <td>에너지원별 비중의 변화에서 전력비중이 증가하였다는 것이다 연평균 지속적 증가를 소비...</td>\n",
              "    </tr>\n",
              "    <tr>\n",
              "      <th>4</th>\n",
              "      <td>강원의 기술지식 영역과 전략산업을 살펴보면 웰니스식품 스포츠지식서비스 의료기기 바이...</td>\n",
              "    </tr>\n",
              "    <tr>\n",
              "      <th>...</th>\n",
              "      <td>...</td>\n",
              "    </tr>\n",
              "    <tr>\n",
              "      <th>159997</th>\n",
              "      <td>유기성 폐기물 에너지화 확대의 속성별 mwtp를 추정한 결과는 제시되어 mwtp는 ...</td>\n",
              "    </tr>\n",
              "    <tr>\n",
              "      <th>159998</th>\n",
              "      <td>일반적으로 정비하천은 자연하천에 댐이나 영향으로 하천유량이 유속이 느려서 지표수 지...</td>\n",
              "    </tr>\n",
              "    <tr>\n",
              "      <th>159999</th>\n",
              "      <td>ncats는 ctsa 이외에도 임상으로의 중개를 다양한 사업들을 진행하는데 대다수는...</td>\n",
              "    </tr>\n",
              "    <tr>\n",
              "      <th>160000</th>\n",
              "      <td>방식과 차이점으로는 국내의 경우에는 평가기술에 과학적 경제성 사회적 효과가 하나의 ...</td>\n",
              "    </tr>\n",
              "    <tr>\n",
              "      <th>160001</th>\n",
              "      <td>cincera 연구도 동일하다 industrial investment scorebo...</td>\n",
              "    </tr>\n",
              "  </tbody>\n",
              "</table>\n",
              "<p>160002 rows × 1 columns</p>\n",
              "</div>\n",
              "      <button class=\"colab-df-convert\" onclick=\"convertToInteractive('df-5f120c13-5ce2-4f26-9f7f-5c4c5c260cf1')\"\n",
              "              title=\"Convert this dataframe to an interactive table.\"\n",
              "              style=\"display:none;\">\n",
              "        \n",
              "  <svg xmlns=\"http://www.w3.org/2000/svg\" height=\"24px\"viewBox=\"0 0 24 24\"\n",
              "       width=\"24px\">\n",
              "    <path d=\"M0 0h24v24H0V0z\" fill=\"none\"/>\n",
              "    <path d=\"M18.56 5.44l.94 2.06.94-2.06 2.06-.94-2.06-.94-.94-2.06-.94 2.06-2.06.94zm-11 1L8.5 8.5l.94-2.06 2.06-.94-2.06-.94L8.5 2.5l-.94 2.06-2.06.94zm10 10l.94 2.06.94-2.06 2.06-.94-2.06-.94-.94-2.06-.94 2.06-2.06.94z\"/><path d=\"M17.41 7.96l-1.37-1.37c-.4-.4-.92-.59-1.43-.59-.52 0-1.04.2-1.43.59L10.3 9.45l-7.72 7.72c-.78.78-.78 2.05 0 2.83L4 21.41c.39.39.9.59 1.41.59.51 0 1.02-.2 1.41-.59l7.78-7.78 2.81-2.81c.8-.78.8-2.07 0-2.86zM5.41 20L4 18.59l7.72-7.72 1.47 1.35L5.41 20z\"/>\n",
              "  </svg>\n",
              "      </button>\n",
              "      \n",
              "  <style>\n",
              "    .colab-df-container {\n",
              "      display:flex;\n",
              "      flex-wrap:wrap;\n",
              "      gap: 12px;\n",
              "    }\n",
              "\n",
              "    .colab-df-convert {\n",
              "      background-color: #E8F0FE;\n",
              "      border: none;\n",
              "      border-radius: 50%;\n",
              "      cursor: pointer;\n",
              "      display: none;\n",
              "      fill: #1967D2;\n",
              "      height: 32px;\n",
              "      padding: 0 0 0 0;\n",
              "      width: 32px;\n",
              "    }\n",
              "\n",
              "    .colab-df-convert:hover {\n",
              "      background-color: #E2EBFA;\n",
              "      box-shadow: 0px 1px 2px rgba(60, 64, 67, 0.3), 0px 1px 3px 1px rgba(60, 64, 67, 0.15);\n",
              "      fill: #174EA6;\n",
              "    }\n",
              "\n",
              "    [theme=dark] .colab-df-convert {\n",
              "      background-color: #3B4455;\n",
              "      fill: #D2E3FC;\n",
              "    }\n",
              "\n",
              "    [theme=dark] .colab-df-convert:hover {\n",
              "      background-color: #434B5C;\n",
              "      box-shadow: 0px 1px 3px 1px rgba(0, 0, 0, 0.15);\n",
              "      filter: drop-shadow(0px 1px 2px rgba(0, 0, 0, 0.3));\n",
              "      fill: #FFFFFF;\n",
              "    }\n",
              "  </style>\n",
              "\n",
              "      <script>\n",
              "        const buttonEl =\n",
              "          document.querySelector('#df-5f120c13-5ce2-4f26-9f7f-5c4c5c260cf1 button.colab-df-convert');\n",
              "        buttonEl.style.display =\n",
              "          google.colab.kernel.accessAllowed ? 'block' : 'none';\n",
              "\n",
              "        async function convertToInteractive(key) {\n",
              "          const element = document.querySelector('#df-5f120c13-5ce2-4f26-9f7f-5c4c5c260cf1');\n",
              "          const dataTable =\n",
              "            await google.colab.kernel.invokeFunction('convertToInteractive',\n",
              "                                                     [key], {});\n",
              "          if (!dataTable) return;\n",
              "\n",
              "          const docLinkHtml = 'Like what you see? Visit the ' +\n",
              "            '<a target=\"_blank\" href=https://colab.research.google.com/notebooks/data_table.ipynb>data table notebook</a>'\n",
              "            + ' to learn more about interactive tables.';\n",
              "          element.innerHTML = '';\n",
              "          dataTable['output_type'] = 'display_data';\n",
              "          await google.colab.output.renderOutput(dataTable, element);\n",
              "          const docLink = document.createElement('div');\n",
              "          docLink.innerHTML = docLinkHtml;\n",
              "          element.appendChild(docLink);\n",
              "        }\n",
              "      </script>\n",
              "    </div>\n",
              "  </div>\n",
              "  "
            ],
            "text/plain": [
              "                                                 document\n",
              "0       자신의 생각을 불명확하게 표현하는 사람들은 생각도 불명확할 가능성이 따라서 생각을 ...\n",
              "1       진로체험의 역량을 강화하기 위하여 단위학교의 담당교사 진로체험을 인솔하거나 안전요원...\n",
              "2       의견에서 mary footer는 논쟁을 진전시켰다 그녀는 비구속적 soft law ...\n",
              "3       에너지원별 비중의 변화에서 전력비중이 증가하였다는 것이다 연평균 지속적 증가를 소비...\n",
              "4       강원의 기술지식 영역과 전략산업을 살펴보면 웰니스식품 스포츠지식서비스 의료기기 바이...\n",
              "...                                                   ...\n",
              "159997  유기성 폐기물 에너지화 확대의 속성별 mwtp를 추정한 결과는 제시되어 mwtp는 ...\n",
              "159998  일반적으로 정비하천은 자연하천에 댐이나 영향으로 하천유량이 유속이 느려서 지표수 지...\n",
              "159999  ncats는 ctsa 이외에도 임상으로의 중개를 다양한 사업들을 진행하는데 대다수는...\n",
              "160000  방식과 차이점으로는 국내의 경우에는 평가기술에 과학적 경제성 사회적 효과가 하나의 ...\n",
              "160001  cincera 연구도 동일하다 industrial investment scorebo...\n",
              "\n",
              "[160002 rows x 1 columns]"
            ]
          },
          "execution_count": 98,
          "metadata": {},
          "output_type": "execute_result"
        }
      ],
      "source": [
        "# 전체 단어에 대한 소문자 변환\n",
        "df['document'] = df['document'].apply(lambda x: x.lower())\n",
        "df"
      ]
    },
    {
      "cell_type": "code",
      "execution_count": null,
      "metadata": {
        "colab": {
          "base_uri": "https://localhost:8080/"
        },
        "id": "2PrIvnITvahu",
        "outputId": "a9e8d305-694e-4872-9d9e-153df9b2e624"
      },
      "outputs": [
        {
          "name": "stdout",
          "output_type": "stream",
          "text": [
            "Requirement already satisfied: konlpy in /usr/local/lib/python3.10/dist-packages (0.6.0)\n",
            "Requirement already satisfied: JPype1>=0.7.0 in /usr/local/lib/python3.10/dist-packages (from konlpy) (1.4.1)\n",
            "Requirement already satisfied: lxml>=4.1.0 in /usr/local/lib/python3.10/dist-packages (from konlpy) (4.9.2)\n",
            "Requirement already satisfied: numpy>=1.6 in /usr/local/lib/python3.10/dist-packages (from konlpy) (1.22.4)\n",
            "Requirement already satisfied: packaging in /usr/local/lib/python3.10/dist-packages (from JPype1>=0.7.0->konlpy) (23.1)\n"
          ]
        }
      ],
      "source": [
        "!pip install konlpy"
      ]
    },
    {
      "cell_type": "code",
      "execution_count": null,
      "metadata": {
        "colab": {
          "base_uri": "https://localhost:8080/"
        },
        "id": "SHzzBKFjtW3T",
        "outputId": "7f93f8ad-1d01-4a9c-c6c5-eac547e35098"
      },
      "outputs": [
        {
          "name": "stdout",
          "output_type": "stream",
          "text": [
            "Requirement already satisfied: nltk in /usr/local/lib/python3.10/dist-packages (3.8.1)\n",
            "Requirement already satisfied: click in /usr/local/lib/python3.10/dist-packages (from nltk) (8.1.3)\n",
            "Requirement already satisfied: joblib in /usr/local/lib/python3.10/dist-packages (from nltk) (1.2.0)\n",
            "Requirement already satisfied: regex>=2021.8.3 in /usr/local/lib/python3.10/dist-packages (from nltk) (2022.10.31)\n",
            "Requirement already satisfied: tqdm in /usr/local/lib/python3.10/dist-packages (from nltk) (4.65.0)\n"
          ]
        }
      ],
      "source": [
        "# 불용어 제거\n",
        "!pip install nltk"
      ]
    },
    {
      "cell_type": "code",
      "execution_count": null,
      "metadata": {
        "id": "pfORVrDNduui"
      },
      "outputs": [],
      "source": [
        "import nltk\n",
        "from nltk.corpus import stopwords"
      ]
    },
    {
      "cell_type": "code",
      "execution_count": null,
      "metadata": {
        "colab": {
          "base_uri": "https://localhost:8080/"
        },
        "id": "Pjpc3Uw3ge-S",
        "outputId": "07547f7d-cf5c-49b7-8095-dc414e4ba5d0"
      },
      "outputs": [
        {
          "name": "stderr",
          "output_type": "stream",
          "text": [
            "[nltk_data] Downloading package stopwords to /root/nltk_data...\n",
            "[nltk_data]   Package stopwords is already up-to-date!\n"
          ]
        },
        {
          "data": {
            "text/plain": [
              "True"
            ]
          },
          "execution_count": 102,
          "metadata": {},
          "output_type": "execute_result"
        }
      ],
      "source": [
        "# stopwords 다운로드\n",
        "nltk.download('stopwords')"
      ]
    },
    {
      "cell_type": "code",
      "execution_count": null,
      "metadata": {
        "id": "DOvY7CnphQjK"
      },
      "outputs": [],
      "source": [
        "stop_words = stopwords.words('/content/stopword.txt')"
      ]
    },
    {
      "cell_type": "code",
      "execution_count": null,
      "metadata": {
        "colab": {
          "base_uri": "https://localhost:8080/"
        },
        "id": "bgHOmQKRgm8x",
        "outputId": "1e39f436-db8e-4bc3-c89b-2a8e314102d0"
      },
      "outputs": [
        {
          "data": {
            "text/plain": [
              "0         [자신의, 생각을, 불명확하게, 표현하는, 사람들은, 생각도, 불명확할, 가능성이,...\n",
              "1         [진로체험의, 역량을, 강화하기, 단위학교의, 담당교사, 진로체험을, 인솔하거나, ...\n",
              "2         [의견에서, mary, footer는, 논쟁을, 진전시켰다, 그녀는, 비구속적, s...\n",
              "3         [에너지원별, 비중의, 변화에서, 전력비중이, 증가하였다는, 것이다, 연평균, 지속...\n",
              "4         [강원의, 기술지식, 영역과, 전략산업을, 살펴보면, 웰니스식품, 스포츠지식서비스,...\n",
              "                                ...                        \n",
              "159997    [유기성, 폐기물, 에너지화, 확대의, 속성별, mwtp를, 추정한, 결과는, 제시...\n",
              "159998    [정비하천은, 자연하천에, 댐이나, 영향으로, 하천유량이, 유속이, 느려서, 지표수...\n",
              "159999    [ncats는, ctsa, 임상으로의, 중개를, 다양한, 사업들을, 진행하는데, 대...\n",
              "160000    [방식과, 차이점으로는, 국내의, 경우에는, 평가기술에, 과학적, 경제성, 사회적,...\n",
              "160001    [cincera, 연구도, 동일하다, industrial, investment, s...\n",
              "Name: document, Length: 160002, dtype: object"
            ]
          },
          "execution_count": 117,
          "metadata": {},
          "output_type": "execute_result"
        }
      ],
      "source": [
        "# dataset에 불용어를 제외하여 띄어쓰기 단위로 문장을 분리\n",
        "tokenized_doc = df['document'].apply(lambda x: x.split()) # 띄어쓰기를 분리\n",
        "tokenized_doc = tokenized_doc.apply(lambda x: [s_word for s_word in x if s_word not in stop_words]) # stop_words에 포함되지 않은 단어만 필터링하여 재지정\n",
        "tokenized_doc"
      ]
    },
    {
      "cell_type": "code",
      "execution_count": null,
      "metadata": {
        "id": "gElgODTeiF7C"
      },
      "outputs": [],
      "source": [
        "from tensorflow.keras.preprocessing.text import Tokenizer"
      ]
    },
    {
      "cell_type": "code",
      "execution_count": null,
      "metadata": {
        "id": "2q2bhczeiGVY"
      },
      "outputs": [],
      "source": [
        "# Tokenizer 객체 생성 및 fit_on_texts 메서드 적용\n",
        "tokenizer = Tokenizer()\n",
        "tokenizer.fit_on_texts(tokenized_doc)"
      ]
    },
    {
      "cell_type": "code",
      "execution_count": null,
      "metadata": {
        "id": "sawjtieQiIsH"
      },
      "outputs": [],
      "source": [
        "# 토큰에 대한 인덱스 지정\n",
        "word2idx = tokenizer.word_index\n",
        "idx2word = {value:key for key, value in word2idx.items()}\n",
        "encoded = tokenizer.texts_to_sequences(tokenized_doc)"
      ]
    },
    {
      "cell_type": "code",
      "execution_count": null,
      "metadata": {
        "colab": {
          "base_uri": "https://localhost:8080/"
        },
        "id": "KgtJLYSHiTOo",
        "outputId": "32160729-c58a-4b19-b634-9064089a7d5a"
      },
      "outputs": [
        {
          "name": "stdout",
          "output_type": "stream",
          "text": [
            "1430762\n"
          ]
        }
      ],
      "source": [
        "# vocab size의 크기\n",
        "vocab_size = len(word2idx) + 1\n",
        "print(vocab_size)"
      ]
    },
    {
      "cell_type": "code",
      "execution_count": null,
      "metadata": {
        "id": "A1TaOxUyiaSU"
      },
      "outputs": [],
      "source": [
        "# negative sampling의 사용\n",
        "from tensorflow.keras.preprocessing.sequence import skipgrams"
      ]
    },
    {
      "cell_type": "code",
      "execution_count": null,
      "metadata": {
        "colab": {
          "base_uri": "https://localhost:8080/"
        },
        "id": "stbYhaAqigXg",
        "outputId": "f9dccc88-51de-43b2-ec01-3a5eb55d4a96"
      },
      "outputs": [
        {
          "name": "stdout",
          "output_type": "stream",
          "text": [
            "5\n"
          ]
        }
      ],
      "source": [
        "# 전체 샘플 중 5개를 가져다 negative sampling 진행 예정\n",
        "skip_grams = [skipgrams(sample, vocabulary_size = vocab_size, window_size=10) for sample in encoded[:5]]\n",
        "print(len(skip_grams))"
      ]
    },
    {
      "cell_type": "code",
      "execution_count": null,
      "metadata": {
        "colab": {
          "base_uri": "https://localhost:8080/"
        },
        "id": "LHkiAXKZiz3Q",
        "outputId": "addea8bd-2160-43dc-f4e8-37c05cd72574"
      },
      "outputs": [
        {
          "name": "stdout",
          "output_type": "stream",
          "text": [
            "3 pairs: [[4438, 857884], [299331, 269503], [8750, 173]]\n",
            "3 labels: [0, 0, 1]\n"
          ]
        }
      ],
      "source": [
        "# skip grams[0]에 skipgrams로 형성된 데이터셋의 확인\n",
        "pairs, labels = skip_grams[0][0], skip_grams[0][1]\n",
        "print(f'3 pairs: {pairs[:3]}')\n",
        "print(f'3 labels: {labels[:3]}')"
      ]
    },
    {
      "cell_type": "code",
      "execution_count": null,
      "metadata": {
        "colab": {
          "base_uri": "https://localhost:8080/"
        },
        "id": "r1IDT4IujC6c",
        "outputId": "3dd5d454-bd27-4bac-d3e1-f9fe1ef0aa45"
      },
      "outputs": [
        {
          "name": "stdout",
          "output_type": "stream",
          "text": [
            "3700\n",
            "3700\n"
          ]
        }
      ],
      "source": [
        "# 첫번째 그룹의 sample에 대해 생긴 pairs와 labels의 개수\n",
        "print(len(pairs))\n",
        "print(len(labels))"
      ]
    },
    {
      "cell_type": "code",
      "execution_count": null,
      "metadata": {
        "colab": {
          "background_save": true
        },
        "id": "RiHZGED7jK5i"
      },
      "outputs": [],
      "source": [
        "# 5000개의 단어로 training dataset 생성\n",
        "training_dataset = [skipgrams(sample, vocabulary_size=vocab_size, window_size=10) for sample in encoded[:5000]]"
      ]
    },
    {
      "cell_type": "code",
      "execution_count": null,
      "metadata": {
        "id": "fknBbUuUjaZl"
      },
      "outputs": [],
      "source": [
        "len(training_dataset)"
      ]
    },
    {
      "cell_type": "code",
      "execution_count": null,
      "metadata": {
        "id": "A9aT5xzojjPD"
      },
      "outputs": [],
      "source": [
        "# word embedding 구축 예정\n",
        "from tensorflow.keras.models import Sequential, Model\n",
        "from tensorflow.keras.layers import Embedding, Reshape, Activation, Input, Dot\n",
        "from tensorflow.keras.utils import plot_model"
      ]
    },
    {
      "cell_type": "code",
      "execution_count": null,
      "metadata": {
        "id": "qbX0ZZs4jxe3"
      },
      "outputs": [],
      "source": [
        "embedding_dim = 100\n",
        "w_inputs = Input(shape=(1,), dtype='int32')\n",
        "word_embedding = Embedding(vocab_size, embedding_dim)(w_inputs)\n",
        "\n",
        "c_inputs = Input(shape=(1,), dtype='int32')\n",
        "context_embedding = Embedding(vocab_size, embedding_dim)(c_inputs)"
      ]
    },
    {
      "cell_type": "code",
      "execution_count": null,
      "metadata": {
        "id": "ceSKcYg-kGB3"
      },
      "outputs": [],
      "source": [
        "# 내적 계산 및 모델 구현\n",
        "dot_product=Dot(axes=2)([word_embedding, context_embedding])\n",
        "dot_product=Reshape((1,), input_shape=(1,1))(dot_product)\n",
        "output = Activation('sigmoid')(dot_product)\n",
        "model = Model(inputs=[w_inputs, c_inputs], outputs=output)"
      ]
    },
    {
      "cell_type": "code",
      "execution_count": null,
      "metadata": {
        "id": "ebFo0IlUkYyB"
      },
      "outputs": [],
      "source": [
        "# 모델 요약\n",
        "model.summary()"
      ]
    },
    {
      "cell_type": "code",
      "execution_count": null,
      "metadata": {
        "id": "XdnQRI4kkcCq"
      },
      "outputs": [],
      "source": [
        "model.compile(loss='binary_crossentropy', optimizer='adam')"
      ]
    },
    {
      "cell_type": "code",
      "execution_count": null,
      "metadata": {
        "id": "6GyNiKQQkkLz"
      },
      "outputs": [],
      "source": [
        "# 시각화\n",
        "plot_model(model, to_file='model.png', show_shapes=True, show_layer_names=True)"
      ]
    },
    {
      "cell_type": "code",
      "execution_count": null,
      "metadata": {
        "id": "Peuh1_5kksnP"
      },
      "outputs": [],
      "source": [
        "# 모델 입력\n",
        "for epoch in range(50):\n",
        "  loss = 0\n",
        "  for _, elem in enumerate(skip_grams):\n",
        "    first_elem = np.array(list(zip(*elem[0]))[0], dtype='int32')\n",
        "    second_elem = np.array(list(zip(*elem[0]))[1], dtype='int32')\n",
        "    labels = np.array(elem[1], dtype='int32')\n",
        "    X=[first_elem, second_elem]\n",
        "    Y=labels\n",
        "    loss += model.train_on_batch(X, Y)\n",
        "  print('Epoch: ', epoch+1, 'Loss: ', loss)"
      ]
    },
    {
      "cell_type": "code",
      "execution_count": null,
      "metadata": {
        "id": "vNC2uQiBlHYt"
      },
      "outputs": [],
      "source": [
        "# 모델을 text로 만들어주는 라이브러리\n",
        "import gensim"
      ]
    },
    {
      "cell_type": "code",
      "execution_count": null,
      "metadata": {
        "id": "20ck-UlWlpFF"
      },
      "outputs": [],
      "source": [
        "f = open('vectors.txt', 'w')\n",
        "f.write('{} {}\\n'.format(vocab_size-1, embedding_dim))\n",
        "vectors = model.get_weights()[0]\n",
        "\n",
        "#가중치 확인\n",
        "for word, i in tokenizer.word_index.items():\n",
        "  f.write('{} {}\\n'.format(word, ' '.join(map(str, list(vectors[i, :])))))\n",
        "f.close()"
      ]
    },
    {
      "cell_type": "code",
      "execution_count": null,
      "metadata": {
        "id": "EzCt5EPul-SY"
      },
      "outputs": [],
      "source": [
        "w2v = gensim.models.KeyedVectors.load_word2vec_format('./vectors.txt', binary=False)"
      ]
    },
    {
      "cell_type": "code",
      "execution_count": null,
      "metadata": {
        "id": "ckQEQ93emXH3"
      },
      "outputs": [],
      "source": [
        "w2v.most_similar(positive=['판사'])"
      ]
    }
  ],
  "metadata": {
    "accelerator": "GPU",
    "colab": {
      "provenance": []
    },
    "kernelspec": {
      "display_name": "Python 3",
      "name": "python3"
    },
    "language_info": {
      "name": "python"
    }
  },
  "nbformat": 4,
  "nbformat_minor": 0
}