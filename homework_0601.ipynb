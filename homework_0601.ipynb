{
  "nbformat": 4,
  "nbformat_minor": 0,
  "metadata": {
    "colab": {
      "provenance": [],
      "authorship_tag": "ABX9TyMKFkf5Jr0r3+2aIflsA5YM",
      "include_colab_link": true
    },
    "kernelspec": {
      "name": "python3",
      "display_name": "Python 3"
    },
    "language_info": {
      "name": "python"
    }
  },
  "cells": [
    {
      "cell_type": "markdown",
      "metadata": {
        "id": "view-in-github",
        "colab_type": "text"
      },
      "source": [
        "<a href=\"https://colab.research.google.com/github/choyunjae123/Homework/blob/master/homework_0601.ipynb\" target=\"_parent\"><img src=\"https://colab.research.google.com/assets/colab-badge.svg\" alt=\"Open In Colab\"/></a>"
      ]
    },
    {
      "cell_type": "code",
      "execution_count": 66,
      "metadata": {
        "id": "ItzxgL6QVnOZ"
      },
      "outputs": [],
      "source": [
        "# 과제\n",
        "# 노래사이트인 지니뮤직에서 200위까지 차트 크롤링\n",
        "# 반복문을 사용하여 크롤링\n",
        "#수집한 데이터를 DF로 저장\n",
        "#엑셀로 출력까지\n",
        "import requests \n",
        "from bs4 import BeautifulSoup"
      ]
    },
    {
      "cell_type": "code",
      "source": [
        "header = {'User-Agent':'Mozilla/5.0 (Windows NT 10.0; Win64; x64)'} # User-Agent를 전부 넣어줄 필요는 없음.\n",
        "request = requests.get('https://www.genie.co.kr/chart/top200?ditc=D&ymd=20230601&hh=14&rtm=Y&pg=1', headers=header)\n",
        "soup = BeautifulSoup(request.text)"
      ],
      "metadata": {
        "id": "q0I7oGvyWYx4"
      },
      "execution_count": 67,
      "outputs": []
    },
    {
      "cell_type": "code",
      "source": [
        "# music_list_wrap에서 div를 가져오기\n",
        "music_list_wrap = soup.findAll('div', {'class':'music-list-wrap'})\n",
        "music_list_wrap"
      ],
      "metadata": {
        "id": "XcT_guwYVt_v"
      },
      "execution_count": null,
      "outputs": []
    },
    {
      "cell_type": "code",
      "source": [
        "# td의 info를 가져오기\n",
        "info = soup.findAll('td', {'class':'info'})\n",
        "print(info)"
      ],
      "metadata": {
        "id": "lNiTQu1Mbi_z"
      },
      "execution_count": null,
      "outputs": []
    },
    {
      "cell_type": "code",
      "source": [
        "# 제목 찾아오기\n",
        "titles = soup.findAll('a', {'class':'title ellipsis'})\n",
        "# print(titles)\n",
        "\n",
        "# 가수 찾아오기\n",
        "artists = soup.findAll('a', {'class':'artist ellipsis'})\n",
        "# print(artists)"
      ],
      "metadata": {
        "id": "h-af8DaVbDry"
      },
      "execution_count": 70,
      "outputs": []
    },
    {
      "cell_type": "code",
      "source": [
        "# 출력하기\n",
        "for i, (title, artist) in enumerate(zip(titles, artists), start=1):\n",
        "    title = title.text.strip()\n",
        "    artist = artist.text.strip()\n",
        "    print('{0:3d}위 {1} - {2}'.format(i, artist, title))"
      ],
      "metadata": {
        "colab": {
          "base_uri": "https://localhost:8080/"
        },
        "id": "3HJ9JK0GbCac",
        "outputId": "df893047-8b0c-4bac-8240-2044e24b418b"
      },
      "execution_count": 99,
      "outputs": [
        {
          "output_type": "stream",
          "name": "stdout",
          "text": [
            "  1위 (여자)아이들 - 퀸카 (Queencard)\n",
            "  2위 IVE (아이브) - I AM\n",
            "  3위 aespa - Spicy\n",
            "  4위 IVE (아이브) - Kitsch\n",
            "  5위 LE SSERAFIM (르세라핌) - UNFORGIVEN (Feat. Nile Rodgers)\n",
            "  6위 (여자)아이들 - 꽃\n",
            "  7위 IVE (아이브) - Hype boy\n",
            "  8위 aespa - Ditto\n",
            "  9위 IVE (아이브) - 손오공\n",
            " 10위 LE SSERAFIM (르세라핌) - 사랑은 늘 도망가\n",
            " 11위 지수 (JISOO) - 사건의 지평선\n",
            " 12위 NewJeans - Cupid\n",
            " 13위 NewJeans - After LIKE\n",
            " 14위 세븐틴 (SEVENTEEN) - 우리들의 블루스\n",
            " 15위 임영웅 - I Don't Think That I Like Her\n",
            " 16위 윤하 (YOUNHA) - 심 (心)\n",
            " 17위 FIFTY FIFTY - Teddy Bear\n",
            " 18위 IVE (아이브) - London Boy\n",
            " 19위 임영웅 - 다시 만날 수 있을까\n",
            " 20위 Charlie Puth - 이제 나만 믿어요\n",
            " 21위 DK (디셈버) - 파이팅 해야지 (Feat. 이영지)\n",
            " 22위 STAYC (스테이씨) - Dangerously\n",
            " 23위 임영웅 - 취중고백\n",
            " 24위 임영웅 - Polaroid\n",
            " 25위 임영웅 - OMG\n",
            " 26위 부석순 (SEVENTEEN) - CHRISTIAN\n",
            " 27위 Charlie Puth - LOVE DIVE\n",
            " 28위 김민석 (멜로망스) - 무지개\n",
            " 29위 임영웅 - 헤어지자 말해요\n",
            " 30위 NewJeans - 이브, 프시케 그리고 푸른 수염의 아내\n",
            " 31위 Zior Park - Attention\n",
            " 32위 IVE (아이브) - ANTIFRAGILE\n",
            " 33위 임영웅 - 아버지\n",
            " 34위 박재정 - 건물 사이에 피어난 장미\n",
            " 35위 LE SSERAFIM (르세라핌) - 사랑인가 봐\n",
            " 36위 NewJeans - 사랑해 진짜\n",
            " 37위 LE SSERAFIM (르세라핌) - A bientot\n",
            " 38위 임영웅 - 손이 참 곱던 그대\n",
            " 39위 H1-KEY (하이키) - 연애편지\n",
            " 40위 멜로망스 (MeloMance) - 물론\n",
            " 41위 임영웅 - 보고싶었어\n",
            " 42위 임영웅 - 인생찬가\n",
            " 43위 임영웅 - NIGHT DANCER\n",
            " 44위 임영웅 - That's Hilarious\n",
            " 45위 허각 - 보금자리\n",
            " 46위 WSG워너비 (4FIRE) - TOMBOY\n",
            " 47위 임영웅 - 빛이 나는 너에게\n",
            " 48위 imase - The Drum\n",
            " 49위 Charlie Puth - Heaven (2023)\n",
            " 50위 임영웅 - Shut Down\n"
          ]
        }
      ]
    },
    {
      "cell_type": "code",
      "source": [
        "def genie(i, data):\n",
        "  header = {'User-Agent':'Mozilla/5.0 (Windows NT 10.0; Win64; x64)'}\n",
        "  request = requests.get(f'https://www.genie.co.kr/chart/top200?ditc=D&ymd=20230601&hh=14&rtm=Y&pg={i}', headers=header)\n",
        "  soup = BeautifulSoup(request.text)\n",
        "\n",
        "  music_list_wrap = soup.findAll('div', {'class':'music-list-wrap'})\n",
        "  info = soup.findAll('td', {'class':'info'})\n",
        "  titles = soup.findAll('a', {'class':'title ellipsis'})\n",
        "  artists = soup.findAll('a', {'class':'artist ellipsis'})\n",
        "\n",
        "  for j, (title, artist) in enumerate(zip(titles, artists), start=1):\n",
        "    title = title.text.strip()\n",
        "    artist = artist.text.strip().split('\\n')[0]\n",
        "    data.append({'rank': j, 'artist': artist, 'title': title})"
      ],
      "metadata": {
        "id": "K71mfdo4iCCN"
      },
      "execution_count": 145,
      "outputs": []
    },
    {
      "cell_type": "code",
      "source": [
        "print(artists)"
      ],
      "metadata": {
        "colab": {
          "base_uri": "https://localhost:8080/"
        },
        "id": "ZwDqM2w8ps64",
        "outputId": "e8e26fbe-4928-4745-ccf3-bdf04d82c999"
      },
      "execution_count": 139,
      "outputs": [
        {
          "output_type": "stream",
          "name": "stdout",
          "text": [
            "[<a class=\"artist ellipsis\" href=\"#\" onclick=\"fnViewArtist('80632010'); return false;\">(여자)아이들</a>, <a class=\"artist ellipsis\" href=\"#\" onclick=\"fnViewArtist('81271496'); return false;\">IVE (아이브)</a>, <a class=\"artist ellipsis\" href=\"#\" onclick=\"fnViewArtist('80957377'); return false;\">aespa</a>, <a class=\"artist ellipsis\" href=\"#\" onclick=\"fnViewArtist('81271496'); return false;\">IVE (아이브)</a>, <a class=\"artist ellipsis\" href=\"#\" onclick=\"fnViewArtist('81397289'); return false;\">LE SSERAFIM (르세라핌)</a>, <a class=\"artist ellipsis\" href=\"#\" onclick=\"fnViewArtist('80632010');return false;\">(여자)아이들</a>, <a class=\"artist ellipsis\" href=\"#\" onclick=\"fnViewArtist('81271496');return false;\">IVE (아이브)</a>, <a class=\"artist ellipsis\" href=\"#\" onclick=\"fnViewArtist('80957377');return false;\">aespa</a>, <a class=\"artist ellipsis\" href=\"#\" onclick=\"fnViewArtist('81271496');return false;\">IVE (아이브)</a>, <a class=\"artist ellipsis\" href=\"#\" onclick=\"fnViewArtist('81397289');return false;\">LE SSERAFIM (르세라핌)</a>, <a class=\"artist ellipsis\" href=\"#\" onclick=\"fnViewArtist('80539782');return false;\">지수 (JISOO)</a>, <a class=\"artist ellipsis\" href=\"#\" onclick=\"fnViewArtist('81490206');return false;\">NewJeans</a>, <a class=\"artist ellipsis\" href=\"#\" onclick=\"fnViewArtist('81490206');return false;\">NewJeans</a>, <a class=\"artist ellipsis\" href=\"#\" onclick=\"fnViewArtist('14945871');return false;\">세븐틴 (SEVENTEEN)</a>, <a class=\"artist ellipsis\" href=\"#\" onclick=\"fnViewArtist('80539618');return false;\">임영웅</a>, <a class=\"artist ellipsis\" href=\"#\" onclick=\"fnViewArtist('42307533');return false;\">윤하 (YOUNHA)</a>, <a class=\"artist ellipsis\" href=\"#\" onclick=\"fnViewArtist('81630823');return false;\">FIFTY FIFTY</a>, <a class=\"artist ellipsis\" href=\"#\" onclick=\"fnViewArtist('81271496');return false;\">IVE (아이브)</a>, <a class=\"artist ellipsis\" href=\"#\" onclick=\"fnViewArtist('80539618');return false;\">임영웅</a>, <a class=\"artist ellipsis\" href=\"#\" onclick=\"fnViewArtist('80339626');return false;\">Charlie Puth</a>, <a class=\"artist ellipsis\" href=\"#\" onclick=\"fnViewArtist('80127059');return false;\">DK (디셈버)</a>, <a class=\"artist ellipsis\" href=\"#\" onclick=\"fnViewArtist('80953355');return false;\">STAYC (스테이씨)</a>, <a class=\"artist ellipsis\" href=\"#\" onclick=\"fnViewArtist('80539618');return false;\">임영웅</a>, <a class=\"artist ellipsis\" href=\"#\" onclick=\"fnViewArtist('80539618');return false;\">임영웅</a>, <a class=\"artist ellipsis\" href=\"#\" onclick=\"fnViewArtist('80539618');return false;\">임영웅</a>, <a class=\"artist ellipsis\" href=\"#\" onclick=\"fnViewArtist('80625519');return false;\">부석순 (SEVENTEEN)</a>, <a class=\"artist ellipsis\" href=\"#\" onclick=\"fnViewArtist('80339626');return false;\">Charlie Puth</a>, <a class=\"artist ellipsis\" href=\"#\" onclick=\"fnViewArtist('80583463');return false;\">김민석 (멜로망스)</a>, <a class=\"artist ellipsis\" href=\"#\" onclick=\"fnViewArtist('80539618');return false;\">임영웅</a>, <a class=\"artist ellipsis\" href=\"#\" onclick=\"fnViewArtist('81490206');return false;\">NewJeans</a>, <a class=\"artist ellipsis\" href=\"#\" onclick=\"fnViewArtist('80618056');return false;\">Zior Park</a>, <a class=\"artist ellipsis\" href=\"#\" onclick=\"fnViewArtist('81271496');return false;\">IVE (아이브)</a>, <a class=\"artist ellipsis\" href=\"#\" onclick=\"fnViewArtist('80539618');return false;\">임영웅</a>, <a class=\"artist ellipsis\" href=\"#\" onclick=\"fnViewArtist('80233010');return false;\">박재정</a>, <a class=\"artist ellipsis\" href=\"#\" onclick=\"fnViewArtist('81397289');return false;\">LE SSERAFIM (르세라핌)</a>, <a class=\"artist ellipsis\" href=\"#\" onclick=\"fnViewArtist('81490206');return false;\">NewJeans</a>, <a class=\"artist ellipsis\" href=\"#\" onclick=\"fnViewArtist('81397289');return false;\">LE SSERAFIM (르세라핌)</a>, <a class=\"artist ellipsis\" href=\"#\" onclick=\"fnViewArtist('80539618');return false;\">임영웅</a>, <a class=\"artist ellipsis\" href=\"#\" onclick=\"fnViewArtist('81289352');return false;\">H1-KEY (하이키)</a>, <a class=\"artist ellipsis\" href=\"#\" onclick=\"fnViewArtist('80343878');return false;\">멜로망스 (MeloMance)</a>, <a class=\"artist ellipsis\" href=\"#\" onclick=\"fnViewArtist('80539618');return false;\">임영웅</a>, <a class=\"artist ellipsis\" href=\"#\" onclick=\"fnViewArtist('80539618');return false;\">임영웅</a>, <a class=\"artist ellipsis\" href=\"#\" onclick=\"fnViewArtist('80539618');return false;\">임영웅</a>, <a class=\"artist ellipsis\" href=\"#\" onclick=\"fnViewArtist('80539618');return false;\">임영웅</a>, <a class=\"artist ellipsis\" href=\"#\" onclick=\"fnViewArtist('80089709');return false;\">허각</a>, <a class=\"artist ellipsis\" href=\"#\" onclick=\"fnViewArtist('81475829');return false;\">WSG워너비 (4FIRE)</a>, <a class=\"artist ellipsis\" href=\"#\" onclick=\"fnViewArtist('80539618');return false;\">임영웅</a>, <a class=\"artist ellipsis\" href=\"#\" onclick=\"fnViewArtist('81289071');return false;\">imase</a>, <a class=\"artist ellipsis\" href=\"#\" onclick=\"fnViewArtist('80339626');return false;\">Charlie Puth</a>, <a class=\"artist ellipsis\" href=\"#\" onclick=\"fnViewArtist('80539618');return false;\">임영웅</a>, <a class=\"artist ellipsis\" href=\"#\" onclick=\"fnViewArtist('80632010');return false;\">(여자)아이들</a>, <a class=\"artist ellipsis\" href=\"#\" onclick=\"fnViewArtist('80534457');return false;\">던 (DAWN)</a>, <a class=\"artist ellipsis\" href=\"#\" onclick=\"fnViewArtist('80494865');return false;\">Alan Walker</a>, <a class=\"artist ellipsis\" href=\"#\" onclick=\"fnViewArtist('80639927');return false;\">임재현</a>, <a class=\"artist ellipsis\" href=\"#\" onclick=\"fnViewArtist('80539764');return false;\">BLACKPINK</a>]\n"
          ]
        }
      ]
    },
    {
      "cell_type": "code",
      "source": [
        "data = []\n",
        "\n",
        "for i in range(1,5):\n",
        "  genie(i, data)\n",
        "\n",
        "print(data)"
      ],
      "metadata": {
        "colab": {
          "base_uri": "https://localhost:8080/"
        },
        "id": "djp9G5uJiqvS",
        "outputId": "62c2756c-fbe3-47cb-9fb4-21759b5b1cb4"
      },
      "execution_count": 146,
      "outputs": [
        {
          "output_type": "stream",
          "name": "stdout",
          "text": [
            "[{'rank': 1, 'artist': '(여자)아이들', 'title': '퀸카 (Queencard)'}, {'rank': 2, 'artist': 'IVE (아이브)', 'title': 'I AM'}, {'rank': 3, 'artist': 'aespa', 'title': 'Spicy'}, {'rank': 4, 'artist': 'IVE (아이브)', 'title': 'Kitsch'}, {'rank': 5, 'artist': 'LE SSERAFIM (르세라핌)', 'title': 'UNFORGIVEN (Feat. Nile Rodgers)'}, {'rank': 6, 'artist': '(여자)아이들', 'title': '꽃'}, {'rank': 7, 'artist': 'IVE (아이브)', 'title': 'Hype boy'}, {'rank': 8, 'artist': 'aespa', 'title': 'Ditto'}, {'rank': 9, 'artist': 'IVE (아이브)', 'title': '손오공'}, {'rank': 10, 'artist': 'LE SSERAFIM (르세라핌)', 'title': '사건의 지평선'}, {'rank': 11, 'artist': '지수 (JISOO)', 'title': '사랑은 늘 도망가'}, {'rank': 12, 'artist': 'NewJeans', 'title': 'Cupid'}, {'rank': 13, 'artist': 'NewJeans', 'title': '심 (心)'}, {'rank': 14, 'artist': '세븐틴 (SEVENTEEN)', 'title': 'Teddy Bear'}, {'rank': 15, 'artist': '윤하 (YOUNHA)', 'title': '우리들의 블루스'}, {'rank': 16, 'artist': '임영웅', 'title': \"I Don't Think That I Like Her\"}, {'rank': 17, 'artist': 'FIFTY FIFTY', 'title': 'After LIKE'}, {'rank': 18, 'artist': 'DK (디셈버)', 'title': 'OMG'}, {'rank': 19, 'artist': 'STAYC (스테이씨)', 'title': 'London Boy'}, {'rank': 20, 'artist': '임영웅', 'title': '이제 나만 믿어요'}, {'rank': 21, 'artist': 'Charlie Puth', 'title': '다시 만날 수 있을까'}, {'rank': 22, 'artist': 'IVE (아이브)', 'title': 'Dangerously'}, {'rank': 23, 'artist': 'NewJeans', 'title': 'LOVE DIVE'}, {'rank': 24, 'artist': '임영웅', 'title': 'Polaroid'}, {'rank': 25, 'artist': '임영웅', 'title': '파이팅 해야지 (Feat. 이영지)'}, {'rank': 26, 'artist': '임영웅', 'title': '무지개'}, {'rank': 27, 'artist': 'Charlie Puth', 'title': 'Attention'}, {'rank': 28, 'artist': 'IVE (아이브)', 'title': 'CHRISTIAN'}, {'rank': 29, 'artist': '임영웅', 'title': '헤어지자 말해요'}, {'rank': 30, 'artist': '부석순 (SEVENTEEN)', 'title': '아버지'}, {'rank': 31, 'artist': '임영웅', 'title': 'ANTIFRAGILE'}, {'rank': 32, 'artist': 'NewJeans', 'title': '물론'}, {'rank': 33, 'artist': 'Zior Park', 'title': '그라데이션'}, {'rank': 34, 'artist': '박재정', 'title': '건물 사이에 피어난 장미'}, {'rank': 35, 'artist': '임영웅', 'title': 'A bientot'}, {'rank': 36, 'artist': 'LE SSERAFIM (르세라핌)', 'title': '손이 참 곱던 그대'}, {'rank': 37, 'artist': '허각', 'title': '사랑해 진짜'}, {'rank': 38, 'artist': '10CM', 'title': '연애편지'}, {'rank': 39, 'artist': 'H1-KEY (하이키)', 'title': '이브, 프시케 그리고 푸른 수염의 아내'}, {'rank': 40, 'artist': '임영웅', 'title': '인생찬가'}, {'rank': 41, 'artist': '임영웅', 'title': '사랑인가 봐'}, {'rank': 42, 'artist': '임영웅', 'title': '보금자리'}, {'rank': 43, 'artist': '임영웅', 'title': 'NIGHT DANCER'}, {'rank': 44, 'artist': 'LE SSERAFIM (르세라핌)', 'title': 'TOMBOY'}, {'rank': 45, 'artist': '임영웅', 'title': '사랑하기 싫어'}, {'rank': 46, 'artist': '멜로망스 (MeloMance)', 'title': \"That's Hilarious\"}, {'rank': 47, 'artist': '임영웅', 'title': 'Nxde'}, {'rank': 48, 'artist': 'imase', 'title': '빛이 나는 너에게'}, {'rank': 49, 'artist': '(여자)아이들', 'title': '취중고백'}, {'rank': 50, 'artist': '지아 (Zia)', 'title': 'The Drum'}, {'rank': 1, 'artist': '(여자)아이들', 'title': 'Shut Down'}, {'rank': 2, 'artist': 'IVE (아이브)', 'title': '다정히 내 이름을 부르면'}, {'rank': 3, 'artist': 'aespa', 'title': 'ELEVEN'}, {'rank': 4, 'artist': 'IVE (아이브)', 'title': 'Allergy'}, {'rank': 5, 'artist': 'LE SSERAFIM (르세라핌)', 'title': 'Heaven (2023)'}, {'rank': 6, 'artist': 'BLACKPINK', 'title': 'KNOCK'}, {'rank': 7, 'artist': '경서예지 & 전건호', 'title': '그때 그 순간 그대로 (그그그)'}, {'rank': 8, 'artist': 'IVE (아이브)', 'title': 'Dynamite'}, {'rank': 9, 'artist': '(여자)아이들', 'title': 'Monologue'}, {'rank': 10, 'artist': '임재현', 'title': '새삥 (Prod. by ZICO) (Feat. 호미들)'}, {'rank': 11, 'artist': '이채연', 'title': 'Stay'}, {'rank': 12, 'artist': 'WSG워너비 (가야G)', 'title': '나의 X에게'}, {'rank': 13, 'artist': '방탄소년단', 'title': '너의 모든 순간'}, {'rank': 14, 'artist': '테이 (Tei)', 'title': '사랑..그게 뭔데'}, {'rank': 15, 'artist': '지코 (ZICO)', 'title': 'When I Get Old'}, {'rank': 16, 'artist': 'The Kid LAROI & Justin Bieber', 'title': '나의 바람 (Wind And Wish)'}, {'rank': 17, 'artist': '경서', 'title': '내가 아니라도'}, {'rank': 18, 'artist': '성시경', 'title': '해요 (2022)'}, {'rank': 19, 'artist': '지아 (Zia)', 'title': '찬란한 하루'}, {'rank': 20, 'artist': 'Christopher & 청하', 'title': 'Loving You Girl (Feat. Hkeem)'}, {'rank': 21, 'artist': '비투비', 'title': '오르트구름'}, {'rank': 22, 'artist': '주호', 'title': 'Dreamers (Music from the FIFA World Cup Qatar 2022 Official Soundtrack) (Feat. FIFA Sound)'}, {'rank': 23, 'artist': '#안녕', 'title': 'Pink Venom'}, {'rank': 24, 'artist': '멜로망스 (MeloMance)', 'title': '주저하는 연인들을 위해'}, {'rank': 25, 'artist': 'Peder Elias', 'title': 'FEARLESS'}, {'rank': 26, 'artist': '윤하 (YOUNHA)', 'title': '2002'}, {'rank': 27, 'artist': '정국 & 방탄소년단', 'title': 'Every Second'}, {'rank': 28, 'artist': 'BLACKPINK', 'title': '에잇 (Prod. & Feat. SUGA of BTS)'}, {'rank': 29, 'artist': '잔나비', 'title': 'Thirsty'}, {'rank': 30, 'artist': 'LE SSERAFIM (르세라핌)', 'title': '정이라고 하자 (Feat. 10CM)'}, {'rank': 31, 'artist': 'Anne-Marie', 'title': 'Cookie'}, {'rank': 32, 'artist': 'Mina Okabe', 'title': '헤픈 우연'}, {'rank': 33, 'artist': '아이유 (IU)', 'title': 'Butter'}, {'rank': 34, 'artist': 'aespa', 'title': '신호등'}, {'rank': 35, 'artist': 'BIG Naughty (서동현)', 'title': '그중에 그대를 만나'}, {'rank': 36, 'artist': 'NewJeans', 'title': '첫 키스에 내 심장은 120BPM'}, {'rank': 37, 'artist': '헤이즈 (Heize)', 'title': 'VIBE (Feat. Jimin of BTS)'}, {'rank': 38, 'artist': '방탄소년단', 'title': '봄날'}, {'rank': 39, 'artist': '이무진', 'title': '보고싶었어'}, {'rank': 40, 'artist': '김호중', 'title': '잠깐 시간 될까'}, {'rank': 41, 'artist': '경서', 'title': 'Celebrity'}, {'rank': 42, 'artist': '태양', 'title': 'At My Worst'}, {'rank': 43, 'artist': '방탄소년단', 'title': 'Off My Face'}, {'rank': 44, 'artist': 'WSG워너비 (4FIRE)', 'title': '밤하늘의 별을 (2020)'}, {'rank': 45, 'artist': '이무진', 'title': '모든 날, 모든 순간 (Every day, Every Moment)'}, {'rank': 46, 'artist': '아이유 (IU)', 'title': 'Say I Love You'}, {'rank': 47, 'artist': 'Pink Sweat$', 'title': 'Love Me Like This'}, {'rank': 48, 'artist': 'Justin Bieber', 'title': '희재'}, {'rank': 49, 'artist': '경서', 'title': '나의 목소리로'}, {'rank': 50, 'artist': '폴킴', 'title': '봄여름가을겨울 (Still Life)'}, {'rank': 1, 'artist': '(여자)아이들', 'title': 'Unholy'}, {'rank': 2, 'artist': 'IVE (아이브)', 'title': 'NOT SORRY (Feat. pH-1) (Prod. by Slom)'}, {'rank': 3, 'artist': 'aespa', 'title': 'Ai Wo Tsutaetaidatoka'}, {'rank': 4, 'artist': 'IVE (아이브)', 'title': '상록수'}, {'rank': 5, 'artist': 'LE SSERAFIM (르세라핌)', 'title': \"That's Not How This Works (Feat. Dan ＋ Shay)\"}, {'rank': 6, 'artist': 'Sam Smith & Kim Petras', 'title': '밤이 무서워요 (Lonely Night)'}, {'rank': 7, 'artist': '이영지', 'title': 'INVU'}, {'rank': 8, 'artist': 'Aimyon', 'title': '한사람만 (2023) (여름날 우리 X 이홍기 (FT아일랜드))'}, {'rank': 9, 'artist': '이우', 'title': 'Candy'}, {'rank': 10, 'artist': 'Charlie Puth', 'title': 'Bad Habits'}, {'rank': 11, 'artist': '주주 시크릿', 'title': '흔들리는 꽃들 속에서 네 샴푸향이 느껴진거야'}, {'rank': 12, 'artist': '태연 (TAEYEON)', 'title': '빙글빙글 (Prod. by R.Tee)'}, {'rank': 13, 'artist': '이홍기 (FT아일랜드)', 'title': '딱 10CM만'}, {'rank': 14, 'artist': 'NCT DREAM', 'title': 'Blueming'}, {'rank': 15, 'artist': 'Ed Sheeran', 'title': '안녕이라고 말하지마'}, {'rank': 16, 'artist': '장범준', 'title': 'LOVE me'}, {'rank': 17, 'artist': '헤이즈 (Heize)', 'title': '만개 (Prod. 신지후)'}, {'rank': 18, 'artist': '10CM & BIG Naughty (서동현)', 'title': 'Nostalgia'}, {'rank': 19, 'artist': '아이유 (IU)', 'title': 'That That (Prod. & Feat. SUGA of BTS)'}, {'rank': 20, 'artist': 'V.O.S', 'title': 'Rush Hour (Feat. j-hope of BTS)'}, {'rank': 21, 'artist': \"BE'O (비오)\", 'title': '인생은 뷰티풀'}, {'rank': 22, 'artist': '김호중', 'title': '떠나보낼 준비해 둘걸 그랬어'}, {'rank': 23, 'artist': '우디 (Woody)', 'title': '고백'}, {'rank': 24, 'artist': '싸이 (Psy)', 'title': '자격지심 (Feat. ZICO)'}, {'rank': 25, 'artist': 'Crush', 'title': '슬픈등'}, {'rank': 26, 'artist': '김호중', 'title': '이 새벽에 전화하는 건'}, {'rank': 27, 'artist': '임한별', 'title': '10,000 Hours'}, {'rank': 28, 'artist': '멜로망스 (MeloMance)', 'title': '당신을 만나'}, {'rank': 29, 'artist': \"BE'O (비오)\", 'title': 'FRIEND THE END'}, {'rank': 30, 'artist': '김호중', 'title': '사랑하지 않아서 그랬어'}, {'rank': 31, 'artist': '황인욱', 'title': '내 기쁨은 너가 벤틀리를 끄는 거야'}, {'rank': 32, 'artist': 'Dan ＋ Shay & Justin Bieber', 'title': \"I Ain't Worried\"}, {'rank': 33, 'artist': '김호중 & 송가인', 'title': 'Like Crazy'}, {'rank': 34, 'artist': '볼빨간사춘기', 'title': 'Weekend'}, {'rank': 35, 'artist': '임한별', 'title': '오늘도 빛나는 너에게 (To You My Light) (Feat.이라온)'}, {'rank': 36, 'artist': '김승민', 'title': '한강에서 (Feat. BIG Naughty)'}, {'rank': 37, 'artist': 'OneRepublic', 'title': 'Next Level'}, {'rank': 38, 'artist': '지민', 'title': 'Bad'}, {'rank': 39, 'artist': '태연 (TAEYEON)', 'title': 'Permission to Dance'}, {'rank': 40, 'artist': '마크툽 (Maktub)', 'title': 'Love story'}, {'rank': 41, 'artist': '폴킴', 'title': \"Stronger (What Doesn't Kill You)\"}, {'rank': 42, 'artist': 'aespa', 'title': 'Left and Right (Feat. Jung Kook of BTS)'}, {'rank': 43, 'artist': 'Christopher', 'title': '발걸음'}, {'rank': 44, 'artist': '방탄소년단', 'title': '나보다 더 사랑해요'}, {'rank': 45, 'artist': '볼빨간사춘기', 'title': '부동의 첫사랑'}, {'rank': 46, 'artist': 'Kelly Clarkson', 'title': 'Fall In Love Alone'}, {'rank': 47, 'artist': 'Charlie Puth & 정국 & 방탄소년단', 'title': 'Feel My Rhythm'}, {'rank': 48, 'artist': 'DK (디셈버)', 'title': '주마등'}, {'rank': 49, 'artist': '김호중', 'title': 'strawberry moon'}, {'rank': 50, 'artist': '10CM', 'title': 'OHAYO MY NIGHT'}, {'rank': 1, 'artist': '(여자)아이들', 'title': '어떻게 이별까지 사랑하겠어, 널 사랑하는 거지'}, {'rank': 2, 'artist': 'IVE (아이브)', 'title': '사람 Pt.2 (Feat. 아이유)'}, {'rank': 3, 'artist': 'aespa', 'title': '내 손을 잡아'}, {'rank': 4, 'artist': 'IVE (아이브)', 'title': 'Made You Look'}, {'rank': 5, 'artist': 'LE SSERAFIM (르세라핌)', 'title': '찰나가 영원이 될 때 (The Eternal Moment)'}, {'rank': 6, 'artist': 'AKMU (악뮤)', 'title': '노래방에서'}, {'rank': 7, 'artist': 'Agust D', 'title': '다시 사랑한다면 (니글니글 버터플라이)'}, {'rank': 8, 'artist': '아이유 (IU)', 'title': 'Angel Pt. 1 (Feat. JVKE & Muni Long) (FAST X Soundtrack)'}, {'rank': 9, 'artist': 'Meghan Trainor', 'title': '빛이 나는 사람'}, {'rank': 10, 'artist': '마크툽 (Maktub)', 'title': 'Tiny Riot'}, {'rank': 11, 'artist': '장범준', 'title': 'All I Wanna Do (K) (Feat. Hoody & Loco)'}, {'rank': 12, 'artist': '김필', 'title': 'F*ck My Life'}, {'rank': 13, 'artist': '지민', 'title': '바라만 본다'}, {'rank': 14, 'artist': '김호중', 'title': '첫눈처럼 너에게 가겠다'}, {'rank': 15, 'artist': 'Sam Ryder', 'title': '뜨거운 여름밤은 가고 남은 건 볼품없지만'}, {'rank': 16, 'artist': '박재범', 'title': '예뻤어'}, {'rank': 17, 'artist': '세븐틴 (SEVENTEEN)', 'title': 'Yet To Come'}, {'rank': 18, 'artist': 'MSG워너비 (M.O.M)', 'title': '우주를 줄게'}, {'rank': 19, 'artist': '에일리 (Ailee)', 'title': '한 페이지가 될 수 있게'}, {'rank': 20, 'artist': '잔나비', 'title': '12 : 45 (Stripped)'}, {'rank': 21, 'artist': 'DAY6 (데이식스)', 'title': '우린 그렇게 사랑해서'}, {'rank': 22, 'artist': '방탄소년단', 'title': '약속 (約束)'}, {'rank': 23, 'artist': '볼빨간사춘기', 'title': '라일락'}, {'rank': 24, 'artist': 'DAY6 (데이식스)', 'title': '그리움의 계절'}, {'rank': 25, 'artist': 'etham', 'title': '있잖아'}, {'rank': 26, 'artist': '강민경 (다비치) & 잔나비 최정훈', 'title': '아로하'}, {'rank': 27, 'artist': '김호중', 'title': '그리워하다'}, {'rank': 28, 'artist': '아이유 (IU)', 'title': 'Il Mare Calmo Della Sera'}, {'rank': 29, 'artist': '김호중', 'title': 'Shape Of You'}, {'rank': 30, 'artist': '폴킴', 'title': '새벽에 걸려온 너의 전화는'}, {'rank': 31, 'artist': '조정석', 'title': '오래된 노래'}, {'rank': 32, 'artist': '비투비', 'title': '이 세상 끝까지'}, {'rank': 33, 'artist': '김호중', 'title': '잘가요'}, {'rank': 34, 'artist': 'Ed Sheeran', 'title': 'Memories'}, {'rank': 35, 'artist': '한동근', 'title': 'Salty & Sweet'}, {'rank': 36, 'artist': 'Standing Egg (스탠딩 에그)', 'title': '풍등'}, {'rank': 37, 'artist': '먼데이 키즈 (Monday Kiz) & #안녕', 'title': 'GHOST TOWN'}, {'rank': 38, 'artist': '주호', 'title': '팡파레'}, {'rank': 39, 'artist': 'Maroon 5', 'title': 'I (Feat. 버벌진트)'}, {'rank': 40, 'artist': 'aespa', 'title': '한여름밤의 꿀'}, {'rank': 41, 'artist': '이찬원', 'title': '도깨비불 (Illusion)'}, {'rank': 42, 'artist': 'Benson Boone', 'title': '그대를 알고'}, {'rank': 43, 'artist': '다비치', 'title': 'Fine'}, {'rank': 44, 'artist': '태연 (TAEYEON)', 'title': '자니 (Feat. DYNAMICDUO)'}, {'rank': 45, 'artist': 'San E (산이) & 레이나', 'title': 'Touch My Body'}, {'rank': 46, 'artist': 'aespa', 'title': '하루 끝'}, {'rank': 47, 'artist': '송하예', 'title': 'SHAKE IT'}, {'rank': 48, 'artist': '태연 (TAEYEON)', 'title': '커피한잔할래요'}, {'rank': 49, 'artist': '프라이머리', 'title': '제주도의 푸른 밤'}, {'rank': 50, 'artist': '씨스타 (Sistar)', 'title': '사랑했나봐'}]\n"
          ]
        }
      ]
    },
    {
      "cell_type": "code",
      "source": [
        "import pandas as pd"
      ],
      "metadata": {
        "id": "SDzjYEGPmpbt"
      },
      "execution_count": 106,
      "outputs": []
    },
    {
      "cell_type": "code",
      "source": [
        "# 데이터프레임으로 뽑아보기\n",
        "df = pd.DataFrame(data)\n",
        "df"
      ],
      "metadata": {
        "id": "t6FO4Vrnmqcs"
      },
      "execution_count": null,
      "outputs": []
    },
    {
      "cell_type": "code",
      "source": [
        "# 엑셀로 뽑아보기 \n",
        "df.to_excel('genie.xlsx')"
      ],
      "metadata": {
        "id": "XxaHlYRwsbrE"
      },
      "execution_count": 149,
      "outputs": []
    }
  ]
}